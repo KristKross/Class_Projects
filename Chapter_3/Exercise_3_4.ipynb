{
  "nbformat": 4,
  "nbformat_minor": 0,
  "metadata": {
    "colab": {
      "provenance": [],
      "authorship_tag": "ABX9TyMsPNl+sZTjjHdrFIXT20aW"
    },
    "kernelspec": {
      "name": "python3",
      "display_name": "Python 3"
    },
    "language_info": {
      "name": "python"
    }
  },
  "cells": [
    {
      "cell_type": "code",
      "execution_count": 14,
      "metadata": {
        "colab": {
          "base_uri": "https://localhost:8080/"
        },
        "id": "oG-l6PZJ_9Qx",
        "outputId": "638817c2-4178-43de-a40d-2a66070306f4"
      },
      "outputs": [
        {
          "output_type": "stream",
          "name": "stdout",
          "text": [
            "Dear Danny Devito,\n",
            "You have been invited to the dinner party.\n",
            "\n",
            "Dear Mahatma Gandhi,\n",
            "You have been invited to the dinner party.\n",
            "\n",
            "Dear Dwayne Johnson,\n",
            "You have been invited to the dinner party.\n",
            "\n"
          ]
        }
      ],
      "source": [
        "\n",
        "guests = [\"Danny Devito\", \"Mahatma Gandhi\", \"Dwayne Johnson\"]\n",
        "print(\"Dear \" + guests[0] + \",\\nYou have been invited to the dinner party.\\n\")\n",
        "print(\"Dear \" + guests[1] + \",\\nYou have been invited to the dinner party.\\n\")\n",
        "print(\"Dear \" + guests[2] + \",\\nYou have been invited to the dinner party.\\n\")"
      ]
    }
  ]
}
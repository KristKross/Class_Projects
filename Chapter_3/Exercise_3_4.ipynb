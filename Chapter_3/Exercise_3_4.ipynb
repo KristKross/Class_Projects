{
  "nbformat": 4,
  "nbformat_minor": 0,
  "metadata": {
    "colab": {
      "provenance": [],
      "authorship_tag": "ABX9TyPvtfdZdXEgdHc2zm3tgluC"
    },
    "kernelspec": {
      "name": "python3",
      "display_name": "Python 3"
    },
    "language_info": {
      "name": "python"
    }
  },
  "cells": [
    {
      "cell_type": "markdown",
      "source": [
        "Exercise 4: Guest List ☑️\n",
        "\n",
        "If you could invite anyone, living or deceased, to dinner, who would you invite? Make a list that includes at least three people you’d\n",
        "\n",
        "like to invite to dinner. Then use your list to print a message to each person, invitingthem to dinner."
      ],
      "metadata": {
        "id": "KmWyYi91GBVH"
      }
    },
    {
      "cell_type": "code",
      "execution_count": 19,
      "metadata": {
        "colab": {
          "base_uri": "https://localhost:8080/"
        },
        "id": "solXaZLbnbt2",
        "outputId": "f2ce5e65-ada7-4932-ff80-594e1635bfa6"
      },
      "outputs": [
        {
          "output_type": "stream",
          "name": "stdout",
          "text": [
            "Dear Danny Devito,\n",
            "You have been invited to the dinner party.\n",
            "\n",
            "Dear Mahatma Gandhi,\n",
            "You have been invited to the dinner party.\n",
            "\n",
            "Dear Dwayne Johnson,\n",
            "You have been invited to the dinner party.\n"
          ]
        }
      ],
      "source": [
        "guests = [\"Danny Devito\", \"Mahatma Gandhi\", \"Dwayne Johnson\"]\n",
        "\n",
        "# concatenating the elements in the list to print an invitation message.\n",
        "print(\"Dear \" + guests[0] + \",\\nYou have been invited to the dinner party.\\n\")\n",
        "print(\"Dear \" + guests[1] + \",\\nYou have been invited to the dinner party.\\n\")\n",
        "print(\"Dear \" + guests[2] + \",\\nYou have been invited to the dinner party.\")"
      ]
    }
  ]
}
{
  "nbformat": 4,
  "nbformat_minor": 0,
  "metadata": {
    "colab": {
      "provenance": [],
      "authorship_tag": "ABX9TyPpMBEqnpmBoWuh53mA8eEZ"
    },
    "kernelspec": {
      "name": "python3",
      "display_name": "Python 3"
    },
    "language_info": {
      "name": "python"
    }
  },
  "cells": [
    {
      "cell_type": "code",
      "source": [
        "guests = [\"Danny Devito\", \"Mahatma Gandhi\", \"Dwayne Johnson\"]\n",
        "print(\"Dear \" + guests[0] + \", you have been invited to a dinner party.\")\n",
        "print(\"Dear \" + guests[1] + \", you have been invited to a dinner party.\")\n",
        "print(\"Dear \" + guests[2] + \", you have been invited to a dinner party.\")\n",
        "\n"
      ],
      "metadata": {
        "colab": {
          "base_uri": "https://localhost:8080/"
        },
        "id": "8prsSRkOMTI6",
        "outputId": "a7b01057-3050-400b-fe91-5421bd922a46"
      },
      "execution_count": 53,
      "outputs": [
        {
          "output_type": "stream",
          "name": "stdout",
          "text": [
            "Dear Danny Devito, you have been invited to a Dinner party.\n",
            "Dear Mahatma Gandhi, you have been invited to a Dinner party.\n",
            "Dear Dwayne Johnson, you have been invited to a Dinner party.\n"
          ]
        }
      ]
    }
  ]
}
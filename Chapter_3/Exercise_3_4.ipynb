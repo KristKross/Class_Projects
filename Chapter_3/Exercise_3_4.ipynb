{
  "nbformat": 4,
  "nbformat_minor": 0,
  "metadata": {
    "colab": {
      "provenance": [],
      "authorship_tag": "ABX9TyPxC93DNq8FybcduPXJxpAG",
      "include_colab_link": true
    },
    "kernelspec": {
      "name": "python3",
      "display_name": "Python 3"
    },
    "language_info": {
      "name": "python"
    }
  },
  "cells": [
    {
      "cell_type": "markdown",
      "metadata": {
        "id": "view-in-github",
        "colab_type": "text"
      },
      "source": [
        "<a href=\"https://colab.research.google.com/github/KristKross/Class_Projects/blob/main/Chapter_3/Exercise_3_4.ipynb\" target=\"_parent\"><img src=\"https://colab.research.google.com/assets/colab-badge.svg\" alt=\"Open In Colab\"/></a>"
      ]
    },
    {
      "cell_type": "code",
      "source": [
        "guests = [\"Danny Devito\", \"Mahatma Gandhi\", \"Dwayne Johnson\"]\n",
        "print(\"Dear \" + guests[0] + \", you have been invited to a Dinner party.\")\n",
        "print(\"Dear \" + guests[1] + \", you have been invited to a Dinner party.\")\n",
        "print(\"Dear \" + guests[2] + \", you have been invited to a Dinner party.\")\n"
      ],
      "metadata": {
        "colab": {
          "base_uri": "https://localhost:8080/"
        },
        "id": "8prsSRkOMTI6",
        "outputId": "a7b01057-3050-400b-fe91-5421bd922a46"
      },
      "execution_count": 53,
      "outputs": [
        {
          "output_type": "stream",
          "name": "stdout",
          "text": [
            "Dear Danny Devito, you have been invited to a Dinner party.\n",
            "Dear Mahatma Gandhi, you have been invited to a Dinner party.\n",
            "Dear Dwayne Johnson, you have been invited to a Dinner party.\n"
          ]
        }
      ]
    }
  ]
}
{
  "nbformat": 4,
  "nbformat_minor": 0,
  "metadata": {
    "colab": {
      "provenance": [],
      "authorship_tag": "ABX9TyM8G/dLfjZUtOEdxQOT7/Gu"
    },
    "kernelspec": {
      "name": "python3",
      "display_name": "Python 3"
    },
    "language_info": {
      "name": "python"
    }
  },
  "cells": [
    {
      "cell_type": "markdown",
      "source": [
        "Exercise 2: Greetings ☑️\n",
        "\n",
        "Start with the list you used in Exercise 1, but instead of just\n",
        "\n",
        "printing each person’s name, print a message to them. The text of each message should be the same, but each message should be\n",
        "\n",
        "personalized with the person’s name."
      ],
      "metadata": {
        "id": "KmWyYi91GBVH"
      }
    },
    {
      "cell_type": "code",
      "execution_count": 16,
      "metadata": {
        "colab": {
          "base_uri": "https://localhost:8080/"
        },
        "id": "solXaZLbnbt2",
        "outputId": "712f521e-52ec-4b48-d8c5-1415fec62d1f"
      },
      "outputs": [
        {
          "output_type": "stream",
          "name": "stdout",
          "text": [
            "Hello Me, good morning.\n",
            "Hello Myself, good morning.\n",
            "Hello I, good morning.\n"
          ]
        }
      ],
      "source": [
        "friends = [\"Me\", \"Myself\", \"I\"]\n",
        "\n",
        "# concatenating each element in the list with strings.\n",
        "print(\"Hello \" + friends[0] + \", good morning.\")\n",
        "print(\"Hello \" + friends[1] + \", good morning.\")\n",
        "print(\"Hello \" + friends[2] + \", good morning.\")"
      ]
    }
  ]
}
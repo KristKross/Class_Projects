{
  "nbformat": 4,
  "nbformat_minor": 0,
  "metadata": {
    "colab": {
      "provenance": [],
      "authorship_tag": "ABX9TyNdUX5uvZlnOf3m9VHmfsLs"
    },
    "kernelspec": {
      "name": "python3",
      "display_name": "Python 3"
    },
    "language_info": {
      "name": "python"
    }
  },
  "cells": [
    {
      "cell_type": "code",
      "source": [
        "friends = [\"Me\", \"Myself\", \"I\"]\n",
        "\n",
        "print(\"Hello \" + friends[0] + \", good morning.\")\n",
        "print(\"Hello \" + friends[1] + \", good morning.\")\n",
        "print(\"Hello \" + friends[2] + \", good morning.\")"
      ],
      "metadata": {
        "colab": {
          "base_uri": "https://localhost:8080/"
        },
        "id": "8prsSRkOMTI6",
        "outputId": "074bceb0-02e2-43d0-b0a2-83594532955f"
      },
      "execution_count": 49,
      "outputs": [
        {
          "output_type": "stream",
          "name": "stdout",
          "text": [
            "Hello Me, good morning.\n",
            "Hello Myself, good morning.\n",
            "Hello I, good morning.\n"
          ]
        }
      ]
    }
  ]
}
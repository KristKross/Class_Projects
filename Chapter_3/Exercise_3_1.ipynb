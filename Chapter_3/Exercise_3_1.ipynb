{
  "nbformat": 4,
  "nbformat_minor": 0,
  "metadata": {
    "colab": {
      "provenance": [],
      "authorship_tag": "ABX9TyPYoHu++GtknCMkQuOc8niy"
    },
    "kernelspec": {
      "name": "python3",
      "display_name": "Python 3"
    },
    "language_info": {
      "name": "python"
    }
  },
  "cells": [
    {
      "cell_type": "markdown",
      "source": [
        "Exercise 1: Names ☑️\n",
        "\n",
        "Store the names of a few of your friends in a list called names. Print each person’s name by accessing each element in the list, one at a time."
      ],
      "metadata": {
        "id": "KmWyYi91GBVH"
      }
    },
    {
      "cell_type": "code",
      "execution_count": 15,
      "metadata": {
        "colab": {
          "base_uri": "https://localhost:8080/"
        },
        "id": "solXaZLbnbt2",
        "outputId": "e5eb8ad8-d51e-45bd-c10e-6828895339a2"
      },
      "outputs": [
        {
          "output_type": "stream",
          "name": "stdout",
          "text": [
            "Me\n",
            "Myself\n",
            "I\n"
          ]
        }
      ],
      "source": [
        "# using a list and storing it in a variable.\n",
        "friends = [\"Me\", \"Myself\", \"I\"]\n",
        "\n",
        "# printing each element in the list.\n",
        "print(friends[0])\n",
        "print(friends[1])\n",
        "print(friends[2])"
      ]
    }
  ]
}
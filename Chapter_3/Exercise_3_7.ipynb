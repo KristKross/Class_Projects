{
  "nbformat": 4,
  "nbformat_minor": 0,
  "metadata": {
    "colab": {
      "provenance": [],
      "authorship_tag": "ABX9TyNmgszARBsmsgMISG9JNx74"
    },
    "kernelspec": {
      "name": "python3",
      "display_name": "Python 3"
    },
    "language_info": {
      "name": "python"
    }
  },
  "cells": [
    {
      "cell_type": "code",
      "source": [
        "places = [\"London\", \"Japan\", \"New York\", \"Canada\", \"Greece\"]\n",
        "print(places)\n",
        "\n",
        "sorted_places = sorted(places)\n",
        "print(places)\n",
        "\n",
        "reverse_sorted_places = sorted(places, reverse=True)\n",
        "\n",
        "places.reverse()\n",
        "print(places)\n",
        "\n",
        "places.reverse()\n",
        "print(places)\n",
        "\n",
        "places.sort()\n",
        "print(places)\n",
        "\n",
        "places.sort(reverse=True)\n",
        "print(places)\n",
        "\n",
        "\n",
        "\n",
        "\n"
      ],
      "metadata": {
        "colab": {
          "base_uri": "https://localhost:8080/"
        },
        "id": "8prsSRkOMTI6",
        "outputId": "9d70478b-9d10-40ce-fd7b-ecb7cca5eb00"
      },
      "execution_count": null,
      "outputs": [
        {
          "output_type": "stream",
          "name": "stdout",
          "text": [
            "['London', 'Japan', 'New York', 'Canada', 'Greece']\n",
            "['London', 'Japan', 'New York', 'Canada', 'Greece']\n",
            "['Greece', 'Canada', 'New York', 'Japan', 'London']\n",
            "['London', 'Japan', 'New York', 'Canada', 'Greece']\n",
            "['Canada', 'Greece', 'Japan', 'London', 'New York']\n",
            "['New York', 'London', 'Japan', 'Greece', 'Canada']\n"
          ]
        }
      ]
    }
  ]
}
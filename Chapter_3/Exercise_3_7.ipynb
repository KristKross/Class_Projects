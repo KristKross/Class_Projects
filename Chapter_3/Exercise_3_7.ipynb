{
  "nbformat": 4,
  "nbformat_minor": 0,
  "metadata": {
    "colab": {
      "provenance": [],
      "authorship_tag": "ABX9TyMr39U8ksQ8dudnwYBfPYx5",
      "include_colab_link": true
    },
    "kernelspec": {
      "name": "python3",
      "display_name": "Python 3"
    },
    "language_info": {
      "name": "python"
    }
  },
  "cells": [
    {
      "cell_type": "markdown",
      "metadata": {
        "id": "view-in-github",
        "colab_type": "text"
      },
      "source": [
        "<a href=\"https://colab.research.google.com/github/KristKross/Kristian_Code_Lab_1/blob/main/Chapter_3/Exercise_3_7.ipynb\" target=\"_parent\"><img src=\"https://colab.research.google.com/assets/colab-badge.svg\" alt=\"Open In Colab\"/></a>"
      ]
    },
    {
      "cell_type": "code",
      "execution_count": 9,
      "metadata": {
        "colab": {
          "base_uri": "https://localhost:8080/"
        },
        "id": "oG-l6PZJ_9Qx",
        "outputId": "2db46223-bd3e-4fd5-e630-480dbbf8b52e"
      },
      "outputs": [
        {
          "output_type": "stream",
          "name": "stdout",
          "text": [
            "['London', 'Japan', 'New York', 'Canada', 'Greece']\n",
            "['London', 'Japan', 'New York', 'Canada', 'Greece']\n",
            "['London', 'Japan', 'New York', 'Canada', 'Greece']\n",
            "['Greece', 'Canada', 'New York', 'Japan', 'London']\n",
            "['London', 'Japan', 'New York', 'Canada', 'Greece']\n",
            "['Canada', 'Greece', 'Japan', 'London', 'New York']\n",
            "['New York', 'London', 'Japan', 'Greece', 'Canada']\n"
          ]
        }
      ],
      "source": [
        "places = [\"London\", \"Japan\", \"New York\", \"Canada\", \"Greece\"]\n",
        "print(places)\n",
        "\n",
        "sorted_places = sorted(places)\n",
        "print(places)\n",
        "\n",
        "reverse_sorted_places = sorted(places, reverse=True)\n",
        "print(places)\n",
        "\n",
        "places.reverse()\n",
        "print(places)\n",
        "\n",
        "places.reverse()\n",
        "print(places)\n",
        "\n",
        "places.sort()\n",
        "print(places)\n",
        "\n",
        "places.sort(reverse=True)\n",
        "print(places)"
      ]
    }
  ]
}
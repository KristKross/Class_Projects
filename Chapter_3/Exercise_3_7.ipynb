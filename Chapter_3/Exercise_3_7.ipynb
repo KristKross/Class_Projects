{
  "nbformat": 4,
  "nbformat_minor": 0,
  "metadata": {
    "colab": {
      "provenance": [],
      "authorship_tag": "ABX9TyMtsdq2g71AZSrdhioRcOa8"
    },
    "kernelspec": {
      "name": "python3",
      "display_name": "Python 3"
    },
    "language_info": {
      "name": "python"
    }
  },
  "cells": [
    {
      "cell_type": "markdown",
      "source": [
        "Exercise 7: Seeing the World ☑️\n",
        "\n",
        "Think of at least five places in the world you’d like to visit. • Store the locations in a list. Make sure the list is not in alphabetical order.\n",
        "\n",
        "• Print your list in its original order. Don’t worry about printing the list neatly,just print it as a raw Python list.\n",
        "\n",
        "• Use sorted() to print your list in alphabetical order without modifying the actual list.\n",
        "\n",
        "• Show that your list is still in its original order by printing it.\n",
        "\n",
        "• Use sorted() to print your list in reverse alphabetical order without changing the order of the original list.\n",
        "\n",
        "• Show that your list is still in its original order by printing it again.\n",
        "\n",
        "• Use reverse() to change the order of your list. Print the list to show that its order has changed.\n",
        "\n",
        "• Use reverse() to change the order of your list again. Print the list to show it’s back to its original order.\n",
        "\n",
        "• Use sort() to change your list so it’s stored in alphabetical order. Print the list to show that its order has been changed.\n",
        "\n",
        "• Use sort() to change your list so it’s stored in reverse alphabetical order. Print the list to show that its order has changed."
      ],
      "metadata": {
        "id": "kA_InrU_56Cf"
      }
    },
    {
      "cell_type": "code",
      "source": [
        "places = [\"London\", \"Japan\", \"New York\", \"Canada\", \"Greece\"]\n",
        "print(\"\\nOriginal order:\")\n",
        "print(places)\n",
        "\n",
        "# Sorts the list in alphabetical order, without modifying the list.\n",
        "print(\"\\nAlphabetical order:\")\n",
        "print(sorted(places))\n",
        "\n",
        "print(\"\\nOriginal order:\")\n",
        "print(places)\n",
        "\n",
        "# Sorts the list in reversed alphabetical order, without modifying the list.\n",
        "print(\"\\nReverse alphabetical order:\")\n",
        "print(sorted(places, reverse=True))\n",
        "\n",
        "\n",
        "print(\"\\nOriginal order:\")\n",
        "print(places)\n",
        "\n",
        "# Reverses the position of the list.\n",
        "\n",
        "print(\"\\nReversed order:\")\n",
        "places.reverse()\n",
        "print(places)\n",
        "\n",
        "# Reverses the position of the list again.\n",
        "\n",
        "print(\"\\nOriginal order:\")\n",
        "places.reverse()\n",
        "print(places)\n",
        "\n",
        "# Sorts the list in alphabetical order.\n",
        "print(\"\\nAlphabetical order:\")\n",
        "places.sort()\n",
        "print(places)\n",
        "\n",
        "# Sorts the list in reversed alphabetical order.\n",
        "print(\"\\nReverse alphabetical order:\")\n",
        "places.sort(reverse=True)\n",
        "print(places)\n"
      ],
      "metadata": {
        "colab": {
          "base_uri": "https://localhost:8080/"
        },
        "id": "8prsSRkOMTI6",
        "outputId": "ac39d703-aeab-40f9-f1ea-04c0c521520c"
      },
      "execution_count": 56,
      "outputs": [
        {
          "output_type": "stream",
          "name": "stdout",
          "text": [
            "\n",
            "Original order:\n",
            "['London', 'Japan', 'New York', 'Canada', 'Greece']\n",
            "\n",
            "Alphabetical order:\n",
            "['Canada', 'Greece', 'Japan', 'London', 'New York']\n",
            "\n",
            "Original order:\n",
            "['London', 'Japan', 'New York', 'Canada', 'Greece']\n",
            "\n",
            "Reverse alphabetical order:\n",
            "['New York', 'London', 'Japan', 'Greece', 'Canada']\n",
            "\n",
            "Original order:\n",
            "['London', 'Japan', 'New York', 'Canada', 'Greece']\n",
            "\n",
            "Reversed order:\n",
            "['Greece', 'Canada', 'New York', 'Japan', 'London']\n",
            "\n",
            "Original order:\n",
            "['London', 'Japan', 'New York', 'Canada', 'Greece']\n",
            "\n",
            "Alphabetical order:\n",
            "['Canada', 'Greece', 'Japan', 'London', 'New York']\n",
            "\n",
            "Reverse alphabetical order:\n",
            "['New York', 'London', 'Japan', 'Greece', 'Canada']\n"
          ]
        }
      ]
    }
  ]
}
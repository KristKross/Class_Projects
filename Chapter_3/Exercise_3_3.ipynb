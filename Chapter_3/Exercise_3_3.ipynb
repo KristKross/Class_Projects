{
  "nbformat": 4,
  "nbformat_minor": 0,
  "metadata": {
    "colab": {
      "provenance": [],
      "authorship_tag": "ABX9TyOyqxRBhN0FBeDV9EPSdaJH"
    },
    "kernelspec": {
      "name": "python3",
      "display_name": "Python 3"
    },
    "language_info": {
      "name": "python"
    }
  },
  "cells": [
    {
      "cell_type": "code",
      "source": [
        "transports = [\"car\", \"bus\", \"metro\"]\n",
        "\n",
        "print(\"I want to learn how to drive a \" + transports[0] + \".\")\n",
        "print(\"I wish the \" + transports[1] + \" is faster.\")\n",
        "print(\"I hope the metro \" + transports[2] + \" is not crowded.\")\n"
      ],
      "metadata": {
        "colab": {
          "base_uri": "https://localhost:8080/"
        },
        "id": "8prsSRkOMTI6",
        "outputId": "608dbc98-07d7-4da9-f1de-9d4cd81ff448"
      },
      "execution_count": 52,
      "outputs": [
        {
          "output_type": "stream",
          "name": "stdout",
          "text": [
            "I want to learn how to drive a car.\n",
            "I wish the bus is faster.\n",
            "I hope the metro metro is not crowded.\n"
          ]
        }
      ]
    }
  ]
}
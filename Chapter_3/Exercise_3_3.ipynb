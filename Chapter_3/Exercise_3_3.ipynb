{
  "nbformat": 4,
  "nbformat_minor": 0,
  "metadata": {
    "colab": {
      "provenance": [],
      "authorship_tag": "ABX9TyNendIU3YoijXdV4tt0pPi0"
    },
    "kernelspec": {
      "name": "python3",
      "display_name": "Python 3"
    },
    "language_info": {
      "name": "python"
    }
  },
  "cells": [
    {
      "cell_type": "code",
      "execution_count": 15,
      "metadata": {
        "colab": {
          "base_uri": "https://localhost:8080/"
        },
        "id": "oG-l6PZJ_9Qx",
        "outputId": "39774af6-33c1-419b-989f-1aa2cca50116"
      },
      "outputs": [
        {
          "output_type": "stream",
          "name": "stdout",
          "text": [
            "I want to learn how to drive a car.\n",
            "I wish the bus is faster.\n",
            "I hope the metro is not crowded.\n"
          ]
        }
      ],
      "source": [
        "transports = [\"car\", \"bus\", \"metro\"]\n",
        "\n",
        "print(\"I want to learn how to drive a \" + transports[0] + \".\")\n",
        "print(\"I wish the \" + transports[1] + \" is faster.\")\n",
        "print(\"I hope the \" + transports[2] + \" is not crowded.\")"
      ]
    }
  ]
}
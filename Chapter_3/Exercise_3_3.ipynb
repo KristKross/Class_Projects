{
  "nbformat": 4,
  "nbformat_minor": 0,
  "metadata": {
    "colab": {
      "provenance": [],
      "authorship_tag": "ABX9TyP+9Y595B2ZQLkBGxfvlDwI"
    },
    "kernelspec": {
      "name": "python3",
      "display_name": "Python 3"
    },
    "language_info": {
      "name": "python"
    }
  },
  "cells": [
    {
      "cell_type": "markdown",
      "source": [
        "Exercise 3: Your Own List ☑️\n",
        "\n",
        "Think of your favorite mode of transportation, such as a motorcycle or a car, and make a list that stores several examples. Use your list\n",
        "\n",
        "to print a series of statements about these items, such as “I would like to own a Honda motorcycle.”"
      ],
      "metadata": {
        "id": "KmWyYi91GBVH"
      }
    },
    {
      "cell_type": "code",
      "execution_count": 16,
      "metadata": {
        "colab": {
          "base_uri": "https://localhost:8080/"
        },
        "id": "solXaZLbnbt2",
        "outputId": "712f521e-52ec-4b48-d8c5-1415fec62d1f"
      },
      "outputs": [
        {
          "output_type": "stream",
          "name": "stdout",
          "text": [
            "Hello Me, good morning.\n",
            "Hello Myself, good morning.\n",
            "Hello I, good morning.\n"
          ]
        }
      ],
      "source": [
        "\n",
        "transports = [\"car\", \"bus\", \"metro\"]\n",
        "\n",
        "# printing each element in the list with a personal message.\n",
        "print(\"I want to learn how to drive a \" + transports[0] + \".\")\n",
        "print(\"I wish the \" + transports[1] + \" is faster.\")\n",
        "print(\"I hope the \" + transports[2] + \" is not crowded.\")"
      ]
    }
  ]
}
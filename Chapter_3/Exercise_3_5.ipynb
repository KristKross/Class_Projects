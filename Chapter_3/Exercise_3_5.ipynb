{
  "nbformat": 4,
  "nbformat_minor": 0,
  "metadata": {
    "colab": {
      "provenance": [],
      "authorship_tag": "ABX9TyNSTAvehLlrKR/1iBrh+NQ/"
    },
    "kernelspec": {
      "name": "python3",
      "display_name": "Python 3"
    },
    "language_info": {
      "name": "python"
    }
  },
  "cells": [
    {
      "cell_type": "code",
      "execution_count": 3,
      "metadata": {
        "colab": {
          "base_uri": "https://localhost:8080/"
        },
        "id": "oG-l6PZJ_9Qx",
        "outputId": "61b650a4-534d-4fc9-83e1-e73fcb5b9135"
      },
      "outputs": [
        {
          "output_type": "stream",
          "name": "stdout",
          "text": [
            "Dear Danny Devito,\n",
            "You have been invited to the dinner party.\n",
            "\n",
            "Dear Mahatma Gandhi,\n",
            "You have been invited to the dinner party.\n",
            "\n",
            "Dear Dwayne Johnson,\n",
            "You have been invited to the dinner party.\n",
            "\n",
            "\n",
            "Mahatma Gandhi is unable to attend to the dinner party.\n",
            "\n",
            "\n",
            "Dear Danny Devito,\n",
            "You have been invited to the dinner party.\n",
            "\n",
            "Dear Michael Jackson,\n",
            "You have been invited to the dinner party.\n",
            "\n",
            "Dear Dwayne Johnson,\n",
            "You have been invited to the dinner party.\n",
            "\n"
          ]
        }
      ],
      "source": [
        "guests = [\"Danny Devito\", \"Mahatma Gandhi\", \"Dwayne Johnson\"]\n",
        "\n",
        "print(\"Dear \" + guests[0] + \",\\nYou have been invited to the dinner party.\\n\")\n",
        "print(\"Dear \" + guests[1] + \",\\nYou have been invited to the dinner party.\\n\")\n",
        "print(\"Dear \" + guests[2] + \",\\nYou have been invited to the dinner party.\\n\\n\")\n",
        "\n",
        "print(guests[1] + \" is unable to attend to the dinner party.\\n\\n\")\n",
        "guests[1] = \"Michael Jackson\"\n",
        "\n",
        "print(\"Dear \" + guests[0] + \",\\nYou have been invited to the dinner party.\\n\")\n",
        "print(\"Dear \" + guests[1] + \",\\nYou have been invited to the dinner party.\\n\")\n",
        "print(\"Dear \" + guests[2] + \",\\nYou have been invited to the dinner party.\\n\")"
      ]
    }
  ]
}
{
  "nbformat": 4,
  "nbformat_minor": 0,
  "metadata": {
    "colab": {
      "provenance": [],
      "authorship_tag": "ABX9TyPC/7VBppPJ6gKmSAcO+Khu",
      "include_colab_link": true
    },
    "kernelspec": {
      "name": "python3",
      "display_name": "Python 3"
    },
    "language_info": {
      "name": "python"
    }
  },
  "cells": [
    {
      "cell_type": "markdown",
      "metadata": {
        "id": "view-in-github",
        "colab_type": "text"
      },
      "source": [
        "<a href=\"https://colab.research.google.com/github/KristKross/Kristian_Code_Lab_1/blob/main/Chapter_3/Exercise_3_5.ipynb\" target=\"_parent\"><img src=\"https://colab.research.google.com/assets/colab-badge.svg\" alt=\"Open In Colab\"/></a>"
      ]
    },
    {
      "cell_type": "code",
      "execution_count": 8,
      "metadata": {
        "colab": {
          "base_uri": "https://localhost:8080/"
        },
        "id": "oG-l6PZJ_9Qx",
        "outputId": "b81e5cc5-8bed-4282-ad99-8c845ee562cf"
      },
      "outputs": [
        {
          "output_type": "stream",
          "name": "stdout",
          "text": [
            "Dear Danny Devito,\n",
            "You have been invited to the dinner party.\n",
            "\n",
            "Dear Mahatma Gandhi,\n",
            "You have been invited to the dinner party.\n",
            "\n",
            "Dear Dwayne Johnson,\n",
            "You have been invited to the dinner party.\n",
            "\n",
            "\n",
            "Mahatma Gandhi is unable to attend to the dinner party.\n",
            "\n",
            "Michael Jackson is added to the guest list.\n",
            "\n",
            "\n",
            "Dear Danny Devito,\n",
            "You have been invited to the dinner party.\n",
            "\n",
            "Dear Michael Jackson,\n",
            "You have been invited to the dinner party.\n",
            "\n",
            "Dear Dwayne Johnson,\n",
            "You have been invited to the dinner party.\n",
            "\n"
          ]
        }
      ],
      "source": [
        "guests = [\"Danny Devito\", \"Mahatma Gandhi\", \"Dwayne Johnson\"]\n",
        "\n",
        "print(\"Dear \" + guests[0] + \",\\nYou have been invited to the dinner party.\\n\")\n",
        "print(\"Dear \" + guests[1] + \",\\nYou have been invited to the dinner party.\\n\")\n",
        "print(\"Dear \" + guests[2] + \",\\nYou have been invited to the dinner party.\\n\\n\")\n",
        "\n",
        "print(guests[1] + \" is unable to attend to the dinner party.\\n\")\n",
        "guests.remove(guests[1])\n",
        "\n",
        "guests.insert(1, \"Michael Jackson\")\n",
        "print(guests[1] + \" is added to the guest list.\\n\\n\")\n",
        "\n",
        "print(\"Dear \" + guests[0] + \",\\nYou have been invited to the dinner party.\\n\")\n",
        "print(\"Dear \" + guests[1] + \",\\nYou have been invited to the dinner party.\\n\")\n",
        "print(\"Dear \" + guests[2] + \",\\nYou have been invited to the dinner party.\\n\")"
      ]
    }
  ]
}
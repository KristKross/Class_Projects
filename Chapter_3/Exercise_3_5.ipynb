{
  "nbformat": 4,
  "nbformat_minor": 0,
  "metadata": {
    "colab": {
      "provenance": [],
      "authorship_tag": "ABX9TyN3BbsJelX/t4DkBFv46SjY"
    },
    "kernelspec": {
      "name": "python3",
      "display_name": "Python 3"
    },
    "language_info": {
      "name": "python"
    }
  },
  "cells": [
    {
      "cell_type": "markdown",
      "source": [
        "Exercise 5: Change Guest List ☑️\n",
        "\n",
        "You just heard that one of your guests can’t make the dinner, so you need to send out a new set of invitations. You’ll have to think of someone else to invite.\n",
        "\n",
        "•Start with your program from Exercise 3-4. Add a print() call at the end of your program stating the name of the guest who can’t make it.\n",
        "\n",
        "•Modify your list, replacing the name of the guest who can’t make it with the name of the new person you are inviting.\n",
        "\n",
        "•Print a second set of invitation messages, one for each person who is still in your list."
      ],
      "metadata": {
        "id": "KmWyYi91GBVH"
      }
    },
    {
      "cell_type": "code",
      "execution_count": 20,
      "metadata": {
        "colab": {
          "base_uri": "https://localhost:8080/"
        },
        "id": "solXaZLbnbt2",
        "outputId": "1fa35120-773f-477b-9dda-d99d746d96b2"
      },
      "outputs": [
        {
          "output_type": "stream",
          "name": "stdout",
          "text": [
            "Dear Danny Devito,\n",
            "You have been invited to the dinner party.\n",
            "\n",
            "Dear Mahatma Gandhi,\n",
            "You have been invited to the dinner party.\n",
            "\n",
            "Dear Dwayne Johnson,\n",
            "You have been invited to the dinner party.\n",
            "\n",
            "\n",
            "Mahatma Gandhi is unable to attend the dinner party.\n",
            "\n",
            "\n",
            "Dear Danny Devito,\n",
            "You have been invited to the dinner party.\n",
            "\n",
            "Dear Michael Jackson,\n",
            "You have been invited to the dinner party.\n",
            "\n",
            "Dear Dwayne Johnson,\n",
            "You have been invited to the dinner party.\n",
            "\n"
          ]
        }
      ],
      "source": [
        "guests = [\"Danny Devito\", \"Mahatma Gandhi\", \"Dwayne Johnson\"]\n",
        "\n",
        "print(\"Dear \" + guests[0] + \",\\nYou have been invited to the dinner party.\\n\")\n",
        "print(\"Dear \" + guests[1] + \",\\nYou have been invited to the dinner party.\\n\")\n",
        "print(\"Dear \" + guests[2] + \",\\nYou have been invited to the dinner party.\\n\\n\")\n",
        "\n",
        "print(guests[1] + \" is unable to attend the dinner party.\\n\\n\")\n",
        "\n",
        "# replacing the specific element of the list with a new string.\n",
        "guests[1] = \"Michael Jackson\"\n",
        "\n",
        "# printing the new guest list with the replaced string.\n",
        "print(\"Dear \" + guests[0] + \",\\nYou have been invited to the dinner party.\\n\")\n",
        "print(\"Dear \" + guests[1] + \",\\nYou have been invited to the dinner party.\\n\")\n",
        "print(\"Dear \" + guests[2] + \",\\nYou have been invited to the dinner party.\\n\")"
      ]
    }
  ]
}
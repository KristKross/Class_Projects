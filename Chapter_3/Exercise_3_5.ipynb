{
  "nbformat": 4,
  "nbformat_minor": 0,
  "metadata": {
    "colab": {
      "provenance": [],
      "authorship_tag": "ABX9TyMYpmP8Oag3Gxjwev/LD9Ee"
    },
    "kernelspec": {
      "name": "python3",
      "display_name": "Python 3"
    },
    "language_info": {
      "name": "python"
    }
  },
  "cells": [
    {
      "cell_type": "code",
      "source": [
        "guests = [\"Danny Devito\", \"Mahatma Gandhi\", \"Dwayne Johnson\"]\n",
        "print(\"Dear \" + guests[0] + \", you have been invited to a dinner party.\")\n",
        "print(\"Dear \" + guests[1] + \", you have been invited to a dinner party.\")\n",
        "print(\"Dear \" + guests[2] + \", you have been invited to a dinner party.\\n\")\n",
        "\n",
        "print(guests[1] + \" is unable to attend to the dinner party.\")\n",
        "guests.remove(guests[1])\n",
        "guests.insert(1, \"Michael Jackson\")\n",
        "print(guests[1] + \" is added to the guest list.\\n\")\n",
        "\n",
        "print(\"Dear \" + guests[0] + \", you have been invited to a dinner party.\")\n",
        "print(\"Dear \" + guests[1] + \", you have been invited to a dinner party.\")\n",
        "print(\"Dear \" + guests[2] + \", you have been invited to a dinner party.\")\n",
        "\n",
        "\n",
        "\n",
        "\n",
        "\n",
        "\n"
      ],
      "metadata": {
        "colab": {
          "base_uri": "https://localhost:8080/"
        },
        "id": "8prsSRkOMTI6",
        "outputId": "9b3c775e-df70-4782-8b5c-0f082a3067db"
      },
      "execution_count": 104,
      "outputs": [
        {
          "output_type": "stream",
          "name": "stdout",
          "text": [
            "Dear Danny Devito, you have been invited to a dinner party.\n",
            "Dear Mahatma Gandhi, you have been invited to a dinner party.\n",
            "Dear Dwayne Johnson, you have been invited to a dinner party.\n",
            "\n",
            "Mahatma Gandhi is unable to attend to the dinner party.\n",
            "Michael Jackson is added to the guest list.\n",
            "\n",
            "Dear Danny Devito, you have been invited to a dinner party.\n",
            "Dear Michael Jackson, you have been invited to a dinner party.\n",
            "Dear Dwayne Johnson, you have been invited to a dinner party.\n"
          ]
        }
      ]
    }
  ]
}
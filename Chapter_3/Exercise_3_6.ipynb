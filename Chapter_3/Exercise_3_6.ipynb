{
  "nbformat": 4,
  "nbformat_minor": 0,
  "metadata": {
    "colab": {
      "provenance": [],
      "authorship_tag": "ABX9TyOaZ9AlBTRVFloJWnuZt5fR"
    },
    "kernelspec": {
      "name": "python3",
      "display_name": "Python 3"
    },
    "language_info": {
      "name": "python"
    }
  },
  "cells": [
    {
      "cell_type": "markdown",
      "source": [
        "Exercise 6: Shrinking Guest List ☑️\n",
        "\n",
        "You just found out that your new dinner table won’t arrive in time for the dinner, and you have space for only two guests.\n",
        "\n",
        "•Start with your program from Exercise 3-5. Add a new line that prints a message saying that you can invite only two people for dinner.\n",
        "\n",
        "•Use pop() to remove guests from your list one at a time until only two names remain in your list. Each time you pop a name from your list, print a message to that person letting them know you’re sorry you can’t invite them to dinner.\n",
        "\n",
        "•Print a message to each of the two people still on your list, letting them know they’re still invited.\n",
        "\n",
        "•Use del to remove the last two names from your list, so you have an empty list. Print your list to make sure you actually have an empty list at the end of your program.    "
      ],
      "metadata": {
        "id": "kA_InrU_56Cf"
      }
    },
    {
      "cell_type": "code",
      "source": [
        "guests = [\"Danny Devito\", \"Mahatma Gandhi\", \"Dwayne Johnson\"]\n",
        "\n",
        "print(\"Dear guests,\\nI am sorry to inform that only two people are able \\\n",
        "to be invited for dinner.\\n\")\n",
        "\n",
        "removed_guests = guests.pop()\n",
        "print(\"Dear \" + removed_guests + \",\\nI am sorry, you are no longer invited to \\\n",
        "dinner.\\n\")\n",
        "\n",
        "print(\"Dear \" + guests[0] + \",\\nyou are still invited to dinner.\\n\")\n",
        "print(\"Dear \" + guests[1] + \",\\nyou are still invited to dinner.\\n\")\n",
        "\n",
        "del(guests[0])\n",
        "del(guests[0])\n",
        "print(guests)"
      ],
      "metadata": {
        "colab": {
          "base_uri": "https://localhost:8080/"
        },
        "id": "8prsSRkOMTI6",
        "outputId": "ec4a006a-7cf6-4f62-d0b5-bf7a663a46bb"
      },
      "execution_count": 39,
      "outputs": [
        {
          "output_type": "stream",
          "name": "stdout",
          "text": [
            "Dear guests,\n",
            "I am sorry to inform that only two people are able to be invited for dinner.\n",
            "\n",
            "Dear Dwayne Johnson,\n",
            "I am sorry, you are no longer invited to dinner.\n",
            "\n",
            "Dear Danny Devito,\n",
            "you are still invited to dinner.\n",
            "\n",
            "Dear Mahatma Gandhi,\n",
            "you are still invited to dinner.\n",
            "\n",
            "[]\n"
          ]
        }
      ]
    }
  ]
}
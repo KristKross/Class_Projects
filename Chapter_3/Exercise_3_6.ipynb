{
  "nbformat": 4,
  "nbformat_minor": 0,
  "metadata": {
    "colab": {
      "provenance": [],
      "authorship_tag": "ABX9TyONmSxXdsGOma2ItGaQzMC0"
    },
    "kernelspec": {
      "name": "python3",
      "display_name": "Python 3"
    },
    "language_info": {
      "name": "python"
    }
  },
  "cells": [
    {
      "cell_type": "markdown",
      "source": [
        "Exercise 6: Shrinking Guest List ☑️\n",
        "\n",
        "You just found out that your new dinner table won’t arrive in time for the dinner, and you have space for only two guests.\n",
        "\n",
        "•Start with your program from Exercise 3-5. Add a new line that prints a message saying that you can invite only two people for dinner.\n",
        "\n",
        "•Use pop() to remove guests from your list one at a time until only two names remain in your list. Each time you pop a name from your list, print a message to that person letting them know you’re sorry you can’t invite them to dinner.\n",
        "\n",
        "•Print a message to each of the two people still on your list, letting them know they’re still invited.\n",
        "\n",
        "•Use del to remove the last two names from your list, so you have an empty list. Print your list to make sure you actually have an empty list at the end of your program.    "
      ],
      "metadata": {
        "id": "kA_InrU_56Cf"
      }
    },
    {
      "cell_type": "code",
      "source": [
        "guests = [\"Danny Devito\", \"Mahatma Gandhi\", \"Dwayne Johnson\"]\n",
        "\n",
        "print(\"Dear guests,\\nI am sorry to inform that only two people are able \\\n",
        "to be invited for dinner.\\n\\n\")\n",
        "\n",
        "removed_guests = guests.pop()\n",
        "print(\"Dear \" + removed_guests + \",\\nyou are no longer invited to \\\n",
        "dinner.\\n\\n\")\n",
        "\n",
        "print(\"Dear \" + guests[0] + \",\\nyou are still invited to dinner.\\n\")\n",
        "print(\"Dear \" + guests[1] + \",\\nyou are still invited to dinner.\\n\")\n",
        "\n",
        "del guests\n",
        "print(guests)"
      ],
      "metadata": {
        "colab": {
          "base_uri": "https://localhost:8080/",
          "height": 444
        },
        "id": "8prsSRkOMTI6",
        "outputId": "d5310b08-d946-4c78-e74d-8251827a29bf"
      },
      "execution_count": 31,
      "outputs": [
        {
          "output_type": "stream",
          "name": "stdout",
          "text": [
            "Dear guests,\n",
            "I am sorry to inform that only two people are able to be invited for dinner.\n",
            "\n",
            "\n",
            "Dear Dwayne Johnson,\n",
            "you are no longer invited to dinner.\n",
            "\n",
            "\n",
            "Dear Danny Devito,\n",
            "you are still invited to dinner.\n",
            "\n",
            "Dear Mahatma Gandhi,\n",
            "you are still invited to dinner.\n",
            "\n"
          ]
        },
        {
          "output_type": "error",
          "ename": "NameError",
          "evalue": "ignored",
          "traceback": [
            "\u001b[0;31m---------------------------------------------------------------------------\u001b[0m",
            "\u001b[0;31mNameError\u001b[0m                                 Traceback (most recent call last)",
            "\u001b[0;32m<ipython-input-31-98fcb4f6e401>\u001b[0m in \u001b[0;36m<module>\u001b[0;34m\u001b[0m\n\u001b[1;32m     12\u001b[0m \u001b[0;34m\u001b[0m\u001b[0m\n\u001b[1;32m     13\u001b[0m \u001b[0;32mdel\u001b[0m \u001b[0mguests\u001b[0m\u001b[0;34m\u001b[0m\u001b[0;34m\u001b[0m\u001b[0m\n\u001b[0;32m---> 14\u001b[0;31m \u001b[0mprint\u001b[0m\u001b[0;34m(\u001b[0m\u001b[0mguests\u001b[0m\u001b[0;34m)\u001b[0m\u001b[0;34m\u001b[0m\u001b[0;34m\u001b[0m\u001b[0m\n\u001b[0m",
            "\u001b[0;31mNameError\u001b[0m: name 'guests' is not defined"
          ]
        }
      ]
    }
  ]
}
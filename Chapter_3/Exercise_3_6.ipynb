{
  "nbformat": 4,
  "nbformat_minor": 0,
  "metadata": {
    "colab": {
      "provenance": [],
      "authorship_tag": "ABX9TyM0fJfCrC/nnN9KM8NCFCm4",
      "include_colab_link": true
    },
    "kernelspec": {
      "name": "python3",
      "display_name": "Python 3"
    },
    "language_info": {
      "name": "python"
    }
  },
  "cells": [
    {
      "cell_type": "markdown",
      "metadata": {
        "id": "view-in-github",
        "colab_type": "text"
      },
      "source": [
        "<a href=\"https://colab.research.google.com/github/KristKross/Kristian_Code_Lab_1/blob/main/Chapter_3/Exercise_3_6.ipynb\" target=\"_parent\"><img src=\"https://colab.research.google.com/assets/colab-badge.svg\" alt=\"Open In Colab\"/></a>"
      ]
    },
    {
      "cell_type": "code",
      "execution_count": 11,
      "metadata": {
        "colab": {
          "base_uri": "https://localhost:8080/"
        },
        "id": "oG-l6PZJ_9Qx",
        "outputId": "d886f80f-1bfa-4cef-ccae-a53ea011dda1"
      },
      "outputs": [
        {
          "output_type": "stream",
          "name": "stdout",
          "text": [
            "Dear guests,\n",
            "I am sorry to inform that only two people are able to be invited for dinner.\n",
            "\n",
            "\n",
            "Dear Mahatma Gandhi,\n",
            "you are no longer invited to dinner.\n",
            "\n",
            "\n",
            "Dear Danny Devito,\n",
            "you are still invited to dinner.\n",
            "\n",
            "Dear Dwayne Johnson,\n",
            "you are still invited to dinner.\n",
            "\n",
            "[]\n"
          ]
        }
      ],
      "source": [
        "guests = [\"Danny Devito\", \"Mahatma Gandhi\", \"Dwayne Johnson\"]\n",
        "\n",
        "print(\"Dear guests,\\nI am sorry to inform that only two people are able \\\n",
        "to be invited for dinner.\\n\\n\")\n",
        "\n",
        "removed_guests = guests.pop(1)\n",
        "print(\"Dear \" + removed_guests + \",\\nyou are no longer invited to \\\n",
        "dinner.\\n\\n\")\n",
        "\n",
        "print(\"Dear \" + guests[0] + \",\\nyou are still invited to dinner.\\n\")\n",
        "print(\"Dear \" + guests[1] + \",\\nyou are still invited to dinner.\\n\")\n",
        "\n",
        "del guests[0:3]\n",
        "print(guests)"
      ]
    }
  ]
}
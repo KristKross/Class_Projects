{
  "nbformat": 4,
  "nbformat_minor": 0,
  "metadata": {
    "colab": {
      "provenance": [],
      "authorship_tag": "ABX9TyNgMAMhnXRvbNHDB7iLhZ3S",
      "include_colab_link": true
    },
    "kernelspec": {
      "name": "python3",
      "display_name": "Python 3"
    },
    "language_info": {
      "name": "python"
    }
  },
  "cells": [
    {
      "cell_type": "markdown",
      "metadata": {
        "id": "view-in-github",
        "colab_type": "text"
      },
      "source": [
        "<a href=\"https://colab.research.google.com/github/KristKross/Class_Projects/blob/main/Chapter_3/Exercise_3_6.ipynb\" target=\"_parent\"><img src=\"https://colab.research.google.com/assets/colab-badge.svg\" alt=\"Open In Colab\"/></a>"
      ]
    },
    {
      "cell_type": "code",
      "source": [
        "guests = [\"Danny Devito\", \"Mahatma Gandhi\", \"Dwayne Johnson\"]\n",
        "\n",
        "print(\"Dear guests,\\nI am sorry to inform that only two people are able \\\n",
        "to be invited for dinner.\\n\")\n",
        "\n",
        "removed_guests = guests.pop(1)\n",
        "print(\"Dear \" + removed_guests + \",\\nyou are no longer invited to \\\n",
        "dinner.\\n\")\n",
        "\n",
        "print(\"Dear \" + guests[0] + \",\\nyou are still invited to dinner.\\n\")\n",
        "print(\"Dear \" + guests[1] + \",\\nyou are still invited to dinner.\")\n",
        "\n",
        "\n",
        "\n",
        "\n",
        "\n",
        "\n"
      ],
      "metadata": {
        "colab": {
          "base_uri": "https://localhost:8080/"
        },
        "id": "8prsSRkOMTI6",
        "outputId": "954f5043-c4f5-4bfa-c9c5-b4a1b9a5dff0"
      },
      "execution_count": 98,
      "outputs": [
        {
          "output_type": "stream",
          "name": "stdout",
          "text": [
            "Dear guests,\n",
            "I am sorry to inform that only two people are able to be invited for dinner.\n",
            "\n",
            "Dear Mahatma Gandhi,\n",
            "you are no longer invited to dinner.\n",
            "\n",
            "Dear Danny Devito,\n",
            "you are still invited to dinner.\n",
            "\n",
            "Dear Dwayne Johnson,\n",
            "you are still invited to dinner.\n"
          ]
        }
      ]
    }
  ]
}
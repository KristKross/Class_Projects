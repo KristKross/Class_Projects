{
  "nbformat": 4,
  "nbformat_minor": 0,
  "metadata": {
    "colab": {
      "provenance": [],
      "authorship_tag": "ABX9TyPezFcxDBaT/kazeMweWY8e"
    },
    "kernelspec": {
      "name": "python3",
      "display_name": "Python 3"
    },
    "language_info": {
      "name": "python"
    }
  },
  "cells": [
    {
      "cell_type": "code",
      "execution_count": null,
      "metadata": {
        "id": "O-QB1tzb8O8c"
      },
      "outputs": [],
      "source": [
        "guests = [\"Danny Devito\", \"Mahatma Gandhi\", \"Dwayne Johnson\"]\n",
        "\n",
        "print(\"Dear guests,\\nI am sorry to inform that only two people are able \\\n",
        "to be invited for dinner.\\n\")\n",
        "\n",
        "removed_guests = guests.pop(1)\n",
        "print(\"Dear \" + removed_guests + \",\\nyou are no longer invited to \\\n",
        "dinner.\\n\")\n",
        "\n",
        "print(\"Dear \" + guests[0] + \",\\nyou are still invited to dinner.\\n\")\n",
        "print(\"Dear \" + guests[1] + \",\\nyou are still invited to dinner.\\n\")\n",
        "\n",
        "del guests[0:3]\n",
        "print(guests)"
      ]
    }
  ]
}
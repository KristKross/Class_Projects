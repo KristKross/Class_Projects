{
  "nbformat": 4,
  "nbformat_minor": 0,
  "metadata": {
    "colab": {
      "provenance": [],
      "authorship_tag": "ABX9TyOaV2XOL5n3K9nldttLxqp/"
    },
    "kernelspec": {
      "name": "python3",
      "display_name": "Python 3"
    },
    "language_info": {
      "name": "python"
    }
  },
  "cells": [
    {
      "cell_type": "markdown",
      "source": [
        "Exercise 3: Infinity ☑️\n",
        "\n",
        "Write a loop that never ends, and run it. (To end the loop, press ctrl-C or close the window displaying the output.)"
      ],
      "metadata": {
        "id": "kA_InrU_56Cf"
      }
    },
    {
      "cell_type": "code",
      "source": [
        "while True:\n",
        "  print(\"Infinity!\")"
      ],
      "metadata": {
        "id": "8prsSRkOMTI6"
      },
      "execution_count": null,
      "outputs": []
    }
  ]
}
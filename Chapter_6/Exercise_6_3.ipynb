{
  "nbformat": 4,
  "nbformat_minor": 0,
  "metadata": {
    "colab": {
      "provenance": [],
      "authorship_tag": "ABX9TyMm/DLux4el66eiRR1A4+Su"
    },
    "kernelspec": {
      "name": "python3",
      "display_name": "Python 3"
    },
    "language_info": {
      "name": "python"
    }
  },
  "cells": [
    {
      "cell_type": "markdown",
      "source": [
        "Exercise 3: Infinity ☑️\n",
        "\n",
        "Write a loop that never ends, and run it. (To end the loop, press ctrl-C or close the window displaying the output.)\n",
        "\n",
        "\n",
        "\n",
        "\n",
        "\n"
      ],
      "metadata": {
        "id": "KmWyYi91GBVH"
      }
    },
    {
      "cell_type": "code",
      "execution_count": null,
      "metadata": {
        "id": "solXaZLbnbt2"
      },
      "outputs": [],
      "source": [
        "# using a \"while\" loop to print a message forever. \n",
        "while True:\n",
        "  print(\"Infinity!\")"
      ]
    }
  ]
}
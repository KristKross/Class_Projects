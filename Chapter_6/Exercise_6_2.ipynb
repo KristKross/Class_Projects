{
  "nbformat": 4,
  "nbformat_minor": 0,
  "metadata": {
    "colab": {
      "provenance": [],
      "authorship_tag": "ABX9TyMl3TH586W8y5SA8dVfTBKT"
    },
    "kernelspec": {
      "name": "python3",
      "display_name": "Python 3"
    },
    "language_info": {
      "name": "python"
    }
  },
  "cells": [
    {
      "cell_type": "markdown",
      "source": [
        "Exercise 2: Movie Tickets: ☑️\n",
        "\n",
        "A movie theater charges different ticket prices depending on a person’s age. If a person is under the age of 3, the ticket is free; if\n",
        "\n",
        "they are between 3 and 12, the ticket is £10; and if they are over age 12, the ticket is £15. Write a loop in which you ask users their\n",
        "\n",
        "age, and then tell them the cost of their movie ticket"
      ],
      "metadata": {
        "id": "kA_InrU_56Cf"
      }
    },
    {
      "cell_type": "code",
      "source": [
        "cost = 0\n",
        "count = 0\n",
        "\n",
        "while True:\n",
        "  age = input(\"Enter age of person. Input \\\"quit\\\" to stop: \")\n",
        "\n",
        "  if age == \"quit\":\n",
        "    break \n",
        "  else:\n",
        "    count += 1\n",
        "\n",
        "    if int(age) < 3:\n",
        "      cost += 0\n",
        "\n",
        "    elif int(age) < 12:\n",
        "      cost += 10\n",
        "\n",
        "    else:\n",
        "      cost += 15\n",
        "\n",
        "print(\"\\nThe amount of people you entered is \" + str(count) + \".\")\n",
        "print(\"\\nYour overall cost of tickets: £\" + str(cost))"
      ],
      "metadata": {
        "colab": {
          "base_uri": "https://localhost:8080/"
        },
        "id": "8prsSRkOMTI6",
        "outputId": "139a7178-2248-4177-d83a-13843dfee219"
      },
      "execution_count": 137,
      "outputs": [
        {
          "output_type": "stream",
          "name": "stdout",
          "text": [
            "Enter age of person. Input \"quit\" to stop: 8\n",
            "Enter age of person. Input \"quit\" to stop: 31\n",
            "Enter age of person. Input \"quit\" to stop: 33\n",
            "Enter age of person. Input \"quit\" to stop: 2\n",
            "Enter age of person. Input \"quit\" to stop: quit\n",
            "\n",
            "The amount of people you entered is 4.\n",
            "\n",
            "Your overall cost of tickets: £40\n"
          ]
        }
      ]
    }
  ]
}
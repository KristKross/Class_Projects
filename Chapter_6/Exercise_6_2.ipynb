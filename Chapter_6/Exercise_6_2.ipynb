{
  "nbformat": 4,
  "nbformat_minor": 0,
  "metadata": {
    "colab": {
      "provenance": [],
      "authorship_tag": "ABX9TyM8ZENTjKaKgIvBWhhM3wCe"
    },
    "kernelspec": {
      "name": "python3",
      "display_name": "Python 3"
    },
    "language_info": {
      "name": "python"
    }
  },
  "cells": [
    {
      "cell_type": "markdown",
      "source": [
        "Exercise 2: Movie Tickets: ☑️\n",
        "\n",
        "A movie theater charges different ticket prices depending on a person’s age. If a person is under the age of 3, the ticket is free; if\n",
        "\n",
        "they are between 3 and 12, the ticket is £10; and if they are over age 12, the ticket is £15. Write a loop in which you ask users their\n",
        "\n",
        "age, and then tell them the cost of their movie ticket"
      ],
      "metadata": {
        "id": "pm7OBWku1E-1"
      }
    },
    {
      "cell_type": "code",
      "execution_count": 26,
      "metadata": {
        "colab": {
          "base_uri": "https://localhost:8080/"
        },
        "id": "solXaZLbnbt2",
        "outputId": "e06751a4-f21c-4e79-9b27-19f7e9e9456a"
      },
      "outputs": [
        {
          "output_type": "stream",
          "name": "stdout",
          "text": [
            "Enter age of person. Input \"quit\" to stop: 2\n",
            "Your ticket costs is £0\n",
            "\n",
            "Enter age of person. Input \"quit\" to stop: 30\n",
            "Your ticket costs is £15\n",
            "\n",
            "Enter age of person. Input \"quit\" to stop: 10\n",
            "Your ticket costs is £10\n",
            "\n",
            "Enter age of person. Input \"quit\" to stop: 28\n",
            "Your ticket costs is £15\n",
            "\n",
            "Enter age of person. Input \"quit\" to stop: quit\n",
            "\n",
            "Your overall cost of tickets is: £40\n"
          ]
        }
      ],
      "source": [
        "cost = 0\n",
        "\n",
        "while True:\n",
        "  age = input(\"Enter age of person. Input \\\"quit\\\" to stop: \")\n",
        "\n",
        "  if age == \"quit\":\n",
        "    break \n",
        "  elif not age.isdigit():\n",
        "    print(\"\")\n",
        "    continue\n",
        "  else:\n",
        "\n",
        "    age = int(age)\n",
        "\n",
        "    if age < 3:\n",
        "      print(\"Your ticket costs is £0\\n\")\n",
        "      cost += 0\n",
        "    elif age < 12:\n",
        "      print(\"Your ticket costs is £10\\n\")\n",
        "      cost += 10\n",
        "    else:\n",
        "      print(\"Your ticket costs is £15\\n\")\n",
        "      cost += 15\n",
        "\n",
        "print(\"\\nYour overall cost of tickets is: £\" + str(cost))"
      ]
    }
  ]
}
{
  "nbformat": 4,
  "nbformat_minor": 0,
  "metadata": {
    "colab": {
      "provenance": [],
      "authorship_tag": "ABX9TyNtsM8ojj4Rn075XXZr3P8s"
    },
    "kernelspec": {
      "name": "python3",
      "display_name": "Python 3"
    },
    "language_info": {
      "name": "python"
    }
  },
  "cells": [
    {
      "cell_type": "markdown",
      "source": [
        "Exercise 5: No Pastrami ☑️\n",
        "\n",
        "Using the list sandwich_orders from Exercise 7-8, make sure the sandwich 'pastrami' appears in the list at least three times. Add code\n",
        "\n",
        "near the beginning of your program to print a message saying the deli has run out of pastrami, and then use a while loop to remove all\n",
        "\n",
        "occurrences of 'pastrami' from sandwich_orders. Make sure no pastrami sandwiches end up in finished_sandwiches."
      ],
      "metadata": {
        "id": "pm7OBWku1E-1"
      }
    },
    {
      "cell_type": "code",
      "execution_count": 17,
      "metadata": {
        "colab": {
          "base_uri": "https://localhost:8080/"
        },
        "id": "solXaZLbnbt2",
        "outputId": "4b940b4e-cf1e-417b-9a94-74e6a1f9529d"
      },
      "outputs": [
        {
          "output_type": "stream",
          "name": "stdout",
          "text": [
            "Sorry, the deli doesn't have any more pastrami.\n",
            "\n",
            "Sandwich orders:\n",
            "\tTuna sandwich is currently being made.\n",
            "\tGrilled cheese sandwich is currently being made.\n",
            "\tHam sandwich is currently being made.\n",
            "\n",
            "Finished sandwich orders:\n",
            "\tTuna sandwich\n",
            "\tGrilled cheese sandwich\n",
            "\tHam sandwich\n"
          ]
        }
      ],
      "source": [
        "sandwich_orders = [\"ham\", \"pastrami\", \"grilled cheese\", \"pastrami\", \"pastrami\", \"tuna\"]\n",
        "finished_sandwich = []\n",
        "\n",
        "print(\"Sorry, the deli doesn't have any more pastrami.\")\n",
        "while \"pastrami\" in sandwich_orders:\n",
        "  sandwich_orders.remove(\"pastrami\")\n",
        "\n",
        "print(\"\\nSandwich orders:\")\n",
        "while sandwich_orders:\n",
        "  current_sandwich = sandwich_orders.pop()\n",
        "  print(\"\\t\" + current_sandwich.capitalize() + \" sandwich is currently being made.\")\n",
        "  finished_sandwich.append(current_sandwich)\n",
        "\n",
        "print(\"\\nFinished sandwich orders:\")\n",
        "for sandwich in finished_sandwich:\n",
        "  print(\"\\t\" + sandwich.capitalize() + \" sandwich\")"
      ]
    }
  ]
}
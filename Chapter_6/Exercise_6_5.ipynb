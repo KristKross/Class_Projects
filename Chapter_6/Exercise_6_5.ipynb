{
  "nbformat": 4,
  "nbformat_minor": 0,
  "metadata": {
    "colab": {
      "provenance": [],
      "authorship_tag": "ABX9TyNSrjepRlpc/Nf1Sqrq2z6U"
    },
    "kernelspec": {
      "name": "python3",
      "display_name": "Python 3"
    },
    "language_info": {
      "name": "python"
    }
  },
  "cells": [
    {
      "cell_type": "markdown",
      "source": [
        "Exercise 5: No Pastrami ☑️\n",
        "\n",
        "Using the list sandwich_orders from Exercise 7-8, make sure the sandwich 'pastrami' appears in the list at least three times. Add code\n",
        "\n",
        "near the beginning of your program to print a message saying the deli has run out of pastrami, and then use a while loop to remove all\n",
        "\n",
        "occurrences of 'pastrami' from sandwich_orders. Make sure no pastrami sandwiches end up in finished_sandwiches.\n",
        "\n",
        "\n",
        "\n",
        "\n"
      ],
      "metadata": {
        "id": "KmWyYi91GBVH"
      }
    },
    {
      "cell_type": "code",
      "execution_count": null,
      "metadata": {
        "id": "solXaZLbnbt2"
      },
      "outputs": [],
      "source": [
        "# using a list to store sandwiches.\n",
        "sandwich_orders = [\"ham\", \"pastrami\", \"grilled cheese\", \n",
        "                   \"pastrami\", \"pastrami\", \"tuna\"]\n",
        "finished_sandwich = []\n",
        "\n",
        "print(\"Sorry, the deli doesn't have any more pastrami.\")\n",
        "# using a \"while\" loop to remove a specific element in the list.\n",
        "while \"pastrami\" in sandwich_orders:\n",
        "  sandwich_orders.remove(\"pastrami\")\n",
        "\n",
        "print(\"\\nSandwich orders:\")\n",
        "# using a \"while\" loop to run the command if a element is present in the list.\n",
        "while sandwich_orders:\n",
        "# using the inbuilt function pop() to move an element to a new variable.\n",
        "  current_sandwich = sandwich_orders.pop()\n",
        "  print(\"\\t\" + current_sandwich + \" sandwich is currently being made.\")\n",
        "# moves the element in the new variable into the list.\n",
        "  finished_sandwich.append(current_sandwich)\n",
        "\n",
        "print(\"\\nFinished sandwich orders:\")\n",
        "# using the \"for\" loop to loop through all the elements in the list and printing it.\n",
        "for sandwich in finished_sandwich:\n",
        "  print(\"\\t\" + sandwich + \" sandwich\")"
      ]
    }
  ]
}
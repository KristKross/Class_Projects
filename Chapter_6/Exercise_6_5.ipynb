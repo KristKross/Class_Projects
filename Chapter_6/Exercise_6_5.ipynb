{
  "nbformat": 4,
  "nbformat_minor": 0,
  "metadata": {
    "colab": {
      "provenance": [],
      "authorship_tag": "ABX9TyOl5BR7mk6BKFrX7SVXUpYD"
    },
    "kernelspec": {
      "name": "python3",
      "display_name": "Python 3"
    },
    "language_info": {
      "name": "python"
    }
  },
  "cells": [
    {
      "cell_type": "markdown",
      "source": [
        "Exercise 5: No Pastrami ☑️\n",
        "\n",
        "Using the list sandwich_orders from Exercise 7-8, make sure the sandwich 'pastrami' appears in the list at least three times. Add code\n",
        "\n",
        "near the beginning of your program to print a message saying the deli has run out of pastrami, and then use a while loop to remove all\n",
        "\n",
        "occurrences of 'pastrami' from sandwich_orders. Make sure no pastrami sandwiches end up in finished_sandwiches."
      ],
      "metadata": {
        "id": "kA_InrU_56Cf"
      }
    },
    {
      "cell_type": "code",
      "source": [
        "sandwich_orders = [\"ham and swiss\", \"pastrami\", \"grilled cheese\", \"pastrami\", \"pastrami\", \"tuna\"]\n",
        "finished_sandwich = []\n",
        "\n",
        "print(\"Sandwich orders:\")\n",
        "while sandwich_orders:\n",
        "  current_sandwich = sandwich_orders.pop()\n",
        "\n",
        "  if current_sandwich.lower() == \"pastrami\":\n",
        "    print(\"- [] Sorry, the deli is out of pastrami.\")\n",
        "    deleted_sandwich = current_sandwich\n",
        "    \n",
        "  else:\n",
        "    print(\"- \" + current_sandwich + \" sandwich is currently being made.\")\n",
        "    finished_sandwich.append(current_sandwich)\n",
        "\n",
        "print(\"\\nFinished Sandwich orders:\")\n",
        "for sandwich in finished_sandwich:\n",
        "  print(\"- \" + sandwich + \" Sandwich\")"
      ],
      "metadata": {
        "colab": {
          "base_uri": "https://localhost:8080/"
        },
        "id": "8prsSRkOMTI6",
        "outputId": "9560a63d-126d-4d15-839d-6f7a66a19a18"
      },
      "execution_count": 161,
      "outputs": [
        {
          "output_type": "stream",
          "name": "stdout",
          "text": [
            "Sandwich orders:\n",
            "- tuna sandwich is currently being made.\n",
            "- [] Sorry, the deli is out of pastrami.\n",
            "- [] Sorry, the deli is out of pastrami.\n",
            "- grilled cheese sandwich is currently being made.\n",
            "- [] Sorry, the deli is out of pastrami.\n",
            "- ham and swiss sandwich is currently being made.\n",
            "\n",
            "Finished Sandwich orders:\n",
            "- tuna Sandwich\n",
            "- grilled cheese Sandwich\n",
            "- ham and swiss Sandwich\n"
          ]
        }
      ]
    }
  ]
}
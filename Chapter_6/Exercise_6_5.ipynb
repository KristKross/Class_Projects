{
  "nbformat": 4,
  "nbformat_minor": 0,
  "metadata": {
    "colab": {
      "provenance": [],
      "authorship_tag": "ABX9TyNGR3U1km+3VfLReDU3xOLj"
    },
    "kernelspec": {
      "name": "python3",
      "display_name": "Python 3"
    },
    "language_info": {
      "name": "python"
    }
  },
  "cells": [
    {
      "cell_type": "markdown",
      "source": [
        "Exercise 5: No Pastrami ☑️\n",
        "\n",
        "Using the list sandwich_orders from Exercise 7-8, make sure the sandwich 'pastrami' appears in the list at least three times. Add code\n",
        "\n",
        "near the beginning of your program to print a message saying the deli has run out of pastrami, and then use a while loop to remove all\n",
        "\n",
        "occurrences of 'pastrami' from sandwich_orders. Make sure no pastrami sandwiches end up in finished_sandwiches."
      ],
      "metadata": {
        "id": "pm7OBWku1E-1"
      }
    },
    {
      "cell_type": "code",
      "execution_count": 18,
      "metadata": {
        "colab": {
          "base_uri": "https://localhost:8080/"
        },
        "id": "solXaZLbnbt2",
        "outputId": "9b61d12b-ccaa-4729-a52c-fa31d0cb9a44"
      },
      "outputs": [
        {
          "output_type": "stream",
          "name": "stdout",
          "text": [
            "Sorry, the deli doesn't have any more pastrami.\n",
            "\n",
            "Sandwich orders:\n",
            "\ttuna sandwich is currently being made.\n",
            "\tgrilled cheese sandwich is currently being made.\n",
            "\tham sandwich is currently being made.\n",
            "\n",
            "Finished sandwich orders:\n",
            "\ttuna sandwich\n",
            "\tgrilled cheese sandwich\n",
            "\tham sandwich\n"
          ]
        }
      ],
      "source": [
        "sandwich_orders = [\"ham\", \"pastrami\", \"grilled cheese\", \n",
        "                   \"pastrami\", \"pastrami\", \"tuna\"]\n",
        "finished_sandwich = []\n",
        "\n",
        "print(\"Sorry, the deli doesn't have any more pastrami.\")\n",
        "while \"pastrami\" in sandwich_orders:\n",
        "  sandwich_orders.remove(\"pastrami\")\n",
        "\n",
        "print(\"\\nSandwich orders:\")\n",
        "while sandwich_orders:\n",
        "  current_sandwich = sandwich_orders.pop()\n",
        "  print(\"\\t\" + current_sandwich + \" sandwich is currently being made.\")\n",
        "  finished_sandwich.append(current_sandwich)\n",
        "\n",
        "print(\"\\nFinished sandwich orders:\")\n",
        "for sandwich in finished_sandwich:\n",
        "  print(\"\\t\" + sandwich + \" sandwich\")"
      ]
    }
  ]
}
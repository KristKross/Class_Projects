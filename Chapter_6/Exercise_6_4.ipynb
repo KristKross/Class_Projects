{
  "nbformat": 4,
  "nbformat_minor": 0,
  "metadata": {
    "colab": {
      "provenance": [],
      "authorship_tag": "ABX9TyPuy/w0liUX1DrrLU3fWWwR"
    },
    "kernelspec": {
      "name": "python3",
      "display_name": "Python 3"
    },
    "language_info": {
      "name": "python"
    }
  },
  "cells": [
    {
      "cell_type": "markdown",
      "source": [
        "Exercise 4: Deli ☑️\n",
        "\n",
        "Make a list called sandwich_orders and fill it with the names of various sandwiches. Then make an empty list called finished_sandwiches.\n",
        "\n",
        "Loop through the list of sandwich orders and print a message for each order, such as I made your tuna sandwich. As each sandwich is made,\n",
        "\n",
        "move it to the list of finished sandwiches. After all the sandwiches have been made, print a message listing each sandwich that was made."
      ],
      "metadata": {
        "id": "kA_InrU_56Cf"
      }
    },
    {
      "cell_type": "code",
      "source": [
        "sandwich_orders = [\"Ham and Swiss\", \"BLT\", \"Steak and Cheese\"]\n",
        "finished_sandwich = []\n",
        "\n",
        "while sandwich_orders:\n",
        "  current_sandwich = sandwich_orders.pop()\n",
        "  print(\"I made your \" + current_sandwich + \" sandwich\")\n",
        "  finished_sandwich.append(current_sandwich)\n",
        "\n",
        "print(\"\\nSandwich orders:\")\n",
        "for sandwich in finished_sandwich:\n",
        "  print(sandwich + \" Sandwich\")"
      ],
      "metadata": {
        "colab": {
          "base_uri": "https://localhost:8080/"
        },
        "id": "8prsSRkOMTI6",
        "outputId": "620cdb17-9384-47d2-9605-a1636b529f13"
      },
      "execution_count": 142,
      "outputs": [
        {
          "output_type": "stream",
          "name": "stdout",
          "text": [
            "I made your Steak and Cheese sandwich\n",
            "I made your BLT sandwich\n",
            "I made your Ham and Swiss sandwich\n",
            "\n",
            "Sandwich orders:\n",
            "Steak and Cheese Sandwich\n",
            "BLT Sandwich\n",
            "Ham and Swiss Sandwich\n"
          ]
        }
      ]
    }
  ]
}
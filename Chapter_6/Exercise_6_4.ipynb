{
  "nbformat": 4,
  "nbformat_minor": 0,
  "metadata": {
    "colab": {
      "provenance": [],
      "authorship_tag": "ABX9TyPpc7m5ZC5ay78J8gpGO5pS"
    },
    "kernelspec": {
      "name": "python3",
      "display_name": "Python 3"
    },
    "language_info": {
      "name": "python"
    }
  },
  "cells": [
    {
      "cell_type": "markdown",
      "source": [
        "\n",
        "Exercise 4: Deli ☑️\n",
        "\n",
        "Make a list called sandwich_orders and fill it with the names of various sandwiches. Then make an empty list called finished_sandwiches.\n",
        "\n",
        "Loop through the list of sandwich orders and print a message for each order, such as I made your tuna sandwich. As each sandwich is made,\n",
        "\n",
        "move it to the list of finished sandwiches. After all the sandwiches have been made, print a message listing each sandwich that was made."
      ],
      "metadata": {
        "id": "pm7OBWku1E-1"
      }
    },
    {
      "cell_type": "code",
      "execution_count": 19,
      "metadata": {
        "colab": {
          "base_uri": "https://localhost:8080/"
        },
        "id": "solXaZLbnbt2",
        "outputId": "5bb4bc0d-ac52-4ed8-dafd-22815f271400"
      },
      "outputs": [
        {
          "output_type": "stream",
          "name": "stdout",
          "text": [
            "Sandwich orders:\n",
            "\ttuna sandwich is currently being made.\n",
            "\tgrilled cheese sandwich is currently being made.\n",
            "\tham sandwich is currently being made.\n",
            "\n",
            "Finished Sandwich orders:\n",
            "\ttuna sandwich\n",
            "\tgrilled cheese sandwich\n",
            "\tham sandwich\n"
          ]
        }
      ],
      "source": [
        "sandwich_orders = [\"ham\", \"grilled cheese\", \"tuna\"]\n",
        "finished_sandwich = []\n",
        "\n",
        "print(\"Sandwich orders:\")\n",
        "while sandwich_orders:\n",
        "  current_sandwich = sandwich_orders.pop()\n",
        "  print(\"\\t\" + current_sandwich + \" sandwich is currently being made.\")\n",
        "  finished_sandwich.append(current_sandwich)\n",
        "\n",
        "print(\"\\nFinished Sandwich orders:\")\n",
        "for sandwich in finished_sandwich:\n",
        "  print(\"\\t\" + sandwich + \" sandwich\")"
      ]
    }
  ]
}
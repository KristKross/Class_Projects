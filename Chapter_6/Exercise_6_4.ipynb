{
  "nbformat": 4,
  "nbformat_minor": 0,
  "metadata": {
    "colab": {
      "provenance": [],
      "authorship_tag": "ABX9TyPD8s14YK5/VujM2M+3iDUU"
    },
    "kernelspec": {
      "name": "python3",
      "display_name": "Python 3"
    },
    "language_info": {
      "name": "python"
    }
  },
  "cells": [
    {
      "cell_type": "markdown",
      "source": [
        "Exercise 4: Deli ☑️\n",
        "\n",
        "Make a list called sandwich_orders and fill it with the names of various sandwiches. Then make an empty list called finished_sandwiches.\n",
        "\n",
        "Loop through the list of sandwich orders and print a message for each order, such as I made your tuna sandwich. As each sandwich is made,\n",
        "\n",
        "move it to the list of finished sandwiches. After all the sandwiches have been made, print a message listing each sandwich that was made.\n",
        "\n",
        "\n",
        "\n",
        "\n",
        "\n"
      ],
      "metadata": {
        "id": "KmWyYi91GBVH"
      }
    },
    {
      "cell_type": "code",
      "execution_count": null,
      "metadata": {
        "id": "solXaZLbnbt2"
      },
      "outputs": [],
      "source": [
        "# using a list to store sandwiches\n",
        "sandwich_orders = [\"ham\", \"grilled cheese\", \"tuna\"]\n",
        "finished_sandwich = []\n",
        "\n",
        "print(\"Sandwich orders:\")\n",
        "# using a \"while\" loop to run the command if a element is present in the list.\n",
        "while sandwich_orders:\n",
        "# using the inbuilt function pop() to move an element to a new variable.\n",
        "  current_sandwich = sandwich_orders.pop()\n",
        "  print(\"\\t\" + current_sandwich + \" sandwich is currently being made.\")\n",
        "# moves the element in the new variable into the list.\n",
        "  finished_sandwich.append(current_sandwich)\n",
        "\n",
        "print(\"\\nFinished Sandwich orders:\")\n",
        "# using the \"for\" loop to loop through all the elements in the list and printing it.\n",
        "for sandwich in finished_sandwich:\n",
        "  print(\"\\t\" + sandwich + \" sandwich\")"
      ]
    }
  ]
}
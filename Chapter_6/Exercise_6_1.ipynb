{
  "nbformat": 4,
  "nbformat_minor": 0,
  "metadata": {
    "colab": {
      "provenance": [],
      "authorship_tag": "ABX9TyPP1GaOcVgjpngTm0zvPiwP"
    },
    "kernelspec": {
      "name": "python3",
      "display_name": "Python 3"
    },
    "language_info": {
      "name": "python"
    }
  },
  "cells": [
    {
      "cell_type": "markdown",
      "source": [
        "Exercise 1: Pizza Toppings ☑️\n",
        "\n",
        "Write a loop that prompts the user to enter a series of pizza toppings until they enter a 'quit' value. As they enter each topping,\n",
        "\n",
        "print a message saying you’ll add that topping to their pizza."
      ],
      "metadata": {
        "id": "kA_InrU_56Cf"
      }
    },
    {
      "cell_type": "code",
      "source": [
        "pizza = []\n",
        "\n",
        "while True:\n",
        "  toppings = input(\"Enter toppings to add to pizza. Input \\\"quit\\\" to stop: \")\n",
        "\n",
        "  if toppings.lower() == \"quit\":\n",
        "    break\n",
        "  elif not toppings:\n",
        "    continue\n",
        "  else:\n",
        "    pizza.append(toppings.lower())\n",
        "\n",
        "print(\"\\nYour pizza has:\")\n",
        "for toppings in pizza:\n",
        "  print(\"- \" + toppings)"
      ],
      "metadata": {
        "colab": {
          "base_uri": "https://localhost:8080/"
        },
        "id": "8prsSRkOMTI6",
        "outputId": "ab877b2d-7a98-4681-ba04-ea10f51fe968"
      },
      "execution_count": 105,
      "outputs": [
        {
          "output_type": "stream",
          "name": "stdout",
          "text": [
            "Enter toppings to add to pizza. Input \"quit\" to stop: pepperoni\n",
            "Enter toppings to add to pizza. Input \"quit\" to stop: sausage\n",
            "Enter toppings to add to pizza. Input \"quit\" to stop: mushroom\n",
            "Enter toppings to add to pizza. Input \"quit\" to stop: quit\n",
            "\n",
            "Your pizza has:\n",
            "- pepperoni\n",
            "- sausage\n",
            "- mushroom\n"
          ]
        }
      ]
    }
  ]
}
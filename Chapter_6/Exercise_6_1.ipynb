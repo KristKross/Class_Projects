{
  "nbformat": 4,
  "nbformat_minor": 0,
  "metadata": {
    "colab": {
      "provenance": [],
      "authorship_tag": "ABX9TyP805DpY2ANKOf6suRcyvyN"
    },
    "kernelspec": {
      "name": "python3",
      "display_name": "Python 3"
    },
    "language_info": {
      "name": "python"
    }
  },
  "cells": [
    {
      "cell_type": "markdown",
      "source": [
        "Exercise 1: Pizza Toppings ☑️\n",
        "\n",
        "Write a loop that prompts the user to enter a series of pizza toppings until they enter a 'quit' value. As they enter each topping,\n",
        "\n",
        "print a message saying you’ll add that topping to their pizza.\n",
        "\n",
        "\n",
        "\n",
        "\n",
        "\n",
        "\n"
      ],
      "metadata": {
        "id": "KmWyYi91GBVH"
      }
    },
    {
      "cell_type": "code",
      "execution_count": 8,
      "metadata": {
        "colab": {
          "base_uri": "https://localhost:8080/"
        },
        "id": "solXaZLbnbt2",
        "outputId": "7fb51c74-b9b0-4718-9ad9-d63e27ae72ed"
      },
      "outputs": [
        {
          "output_type": "stream",
          "name": "stdout",
          "text": [
            "\n",
            "Enter toppings to add to pizza. Input \"quit\" to stop: pepperoni\n",
            "PEPPERONI is added to your pizza.\n",
            "\n",
            "Enter toppings to add to pizza. Input \"quit\" to stop: ham\n",
            "HAM is added to your pizza.\n",
            "\n",
            "Enter toppings to add to pizza. Input \"quit\" to stop: pineapples\n",
            "PINEAPPLES is added to your pizza.\n",
            "\n",
            "Enter toppings to add to pizza. Input \"quit\" to stop: quit\n",
            "\n",
            "Your pizza has:\n",
            "\tpepperoni\n",
            "\tham\n",
            "\tpineapples\n"
          ]
        }
      ],
      "source": [
        "pizza = []\n",
        "\n",
        "# using a while loop to loop the programme until the user inputs \"quit\".\n",
        "while True:\n",
        "  print(\"\")\n",
        "  toppings = input(\"Enter toppings to add to pizza. Input \\\"quit\\\" to stop: \")\n",
        "\n",
        "# if the user inputs \"quit\" the programme will break.\n",
        "  if toppings.lower() == \"quit\":\n",
        "    break\n",
        "  elif not toppings:\n",
        "    continue\n",
        "# if not, the else statement will run and print the toppings and also append it.\n",
        "  else:\n",
        "    print(toppings.upper() + \" is added to your pizza.\")\n",
        "    pizza.append(toppings.lower())\n",
        "\n",
        "# EXTRA: used a loop to print all the elements of the list separately.\n",
        "print(\"\\nYour pizza has:\")\n",
        "for toppings in pizza:\n",
        "  print(\"\\t\" + toppings)"
      ]
    }
  ]
}
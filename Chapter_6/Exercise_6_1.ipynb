{
  "nbformat": 4,
  "nbformat_minor": 0,
  "metadata": {
    "colab": {
      "provenance": [],
      "authorship_tag": "ABX9TyNPGONZR7mhlZskYUoqbl2H"
    },
    "kernelspec": {
      "name": "python3",
      "display_name": "Python 3"
    },
    "language_info": {
      "name": "python"
    }
  },
  "cells": [
    {
      "cell_type": "markdown",
      "source": [
        "Exercise 1: Pizza Toppings ☑️\n",
        "\n",
        "Write a loop that prompts the user to enter a series of pizza toppings until they enter a 'quit' value. As they enter each topping,\n",
        "\n",
        "print a message saying you’ll add that topping to their pizza."
      ],
      "metadata": {
        "id": "pm7OBWku1E-1"
      }
    },
    {
      "cell_type": "code",
      "execution_count": 5,
      "metadata": {
        "colab": {
          "base_uri": "https://localhost:8080/"
        },
        "id": "solXaZLbnbt2",
        "outputId": "73697e82-245d-4a56-e855-2b370dd1073b"
      },
      "outputs": [
        {
          "output_type": "stream",
          "name": "stdout",
          "text": [
            "\n",
            "Enter toppings to add to pizza. Input \"quit\" to stop: pepperoni\n",
            "PEPPERONI is added to your pizza.\n",
            "\n",
            "Enter toppings to add to pizza. Input \"quit\" to stop: sausage\n",
            "SAUSAGE is added to your pizza.\n",
            "\n",
            "Enter toppings to add to pizza. Input \"quit\" to stop: pineapples\n",
            "PINEAPPLES is added to your pizza.\n",
            "\n",
            "Enter toppings to add to pizza. Input \"quit\" to stop: quit\n",
            "\n",
            "Your pizza has:\n",
            "\tpepperoni\n",
            "\tsausage\n",
            "\tpineapples\n"
          ]
        }
      ],
      "source": [
        "pizza = []\n",
        "\n",
        "while True:\n",
        "  print(\"\")\n",
        "  toppings = input(\"Enter toppings to add to pizza. Input \\\"quit\\\" to stop: \")\n",
        "\n",
        "  if toppings.lower() == \"quit\":\n",
        "    break\n",
        "  elif not toppings:\n",
        "    continue\n",
        "  else:\n",
        "    print(toppings.upper() + \" is added to your pizza.\")\n",
        "    pizza.append(toppings.lower())\n",
        "\n",
        "print(\"\\nYour pizza has:\")\n",
        "for toppings in pizza:\n",
        "  print(\"\\t\" + toppings)"
      ]
    }
  ]
}
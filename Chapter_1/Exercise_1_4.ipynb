{
  "nbformat": 4,
  "nbformat_minor": 0,
  "metadata": {
    "colab": {
      "provenance": [],
      "authorship_tag": "ABX9TyPOBMZ/bewo+Y6VcjjHyO9f"
    },
    "kernelspec": {
      "name": "python3",
      "display_name": "Python 3"
    },
    "language_info": {
      "name": "python"
    }
  },
  "cells": [
    {
      "cell_type": "markdown",
      "source": [
        "Exercise 4: Strings Concatination ☑️\n",
        "\n",
        "Write three strings in different variables and print the output as one string."
      ],
      "metadata": {
        "id": "KmWyYi91GBVH"
      }
    },
    {
      "cell_type": "code",
      "execution_count": 14,
      "metadata": {
        "colab": {
          "base_uri": "https://localhost:8080/"
        },
        "id": "solXaZLbnbt2",
        "outputId": "d95b3312-5596-40c0-c5df-5906a0d16d66"
      },
      "outputs": [
        {
          "output_type": "stream",
          "name": "stdout",
          "text": [
            "string1 string2 string3 \n"
          ]
        }
      ],
      "source": [
        "a = \"string1 \"\n",
        "b = \"string2 \"\n",
        "c = \"string3 \"\n",
        "\n",
        "# concatenating three strings together.\n",
        "print(a + b + c)"
      ]
    }
  ]
}
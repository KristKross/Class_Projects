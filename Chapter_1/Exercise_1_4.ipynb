{
  "nbformat": 4,
  "nbformat_minor": 0,
  "metadata": {
    "colab": {
      "provenance": [],
      "authorship_tag": "ABX9TyNXlX9I9uvcUKo6+vCgLbBD"
    },
    "kernelspec": {
      "name": "python3",
      "display_name": "Python 3"
    },
    "language_info": {
      "name": "python"
    }
  },
  "cells": [
    {
      "cell_type": "markdown",
      "source": [
        "Exercise 4: Strings Concatination ☑️\n",
        "\n",
        "Write three strings in different variables and print the output as one string.      "
      ],
      "metadata": {
        "id": "kA_InrU_56Cf"
      }
    },
    {
      "cell_type": "code",
      "source": [
        "a = \"string 1,\"\n",
        "b = \"string 2,\"\n",
        "c = \"string 3\"\n",
        "print(a, b, c)"
      ],
      "metadata": {
        "colab": {
          "base_uri": "https://localhost:8080/"
        },
        "id": "8prsSRkOMTI6",
        "outputId": "8a74dd86-d5f0-4634-f93f-6608d1cda4f4"
      },
      "execution_count": 22,
      "outputs": [
        {
          "output_type": "stream",
          "name": "stdout",
          "text": [
            "string 1, string 2, string 3\n"
          ]
        }
      ]
    }
  ]
}
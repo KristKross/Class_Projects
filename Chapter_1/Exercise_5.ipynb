{
  "nbformat": 4,
  "nbformat_minor": 0,
  "metadata": {
    "colab": {
      "provenance": [],
      "authorship_tag": "ABX9TyPNvQyQfU31Aj2pm7iVZNfU"
    },
    "kernelspec": {
      "name": "python3",
      "display_name": "Python 3"
    },
    "language_info": {
      "name": "python"
    }
  },
  "cells": [
    {
      "cell_type": "code",
      "source": [
        "from math import pi\n",
        "\n",
        "radius = int(input(\"Enter radius: \"))\n",
        "area = radius * pi ** 2\n",
        "area_rounded = \"{:.2f}\".format(area)\n",
        "print(\"The area of a circle with a radius of \" + str(radius) + \\\n",
        "      \" is \" + str(area_rounded) + \"cm^2\")"
      ],
      "metadata": {
        "id": "8prsSRkOMTI6"
      },
      "execution_count": null,
      "outputs": []
    }
  ]
}
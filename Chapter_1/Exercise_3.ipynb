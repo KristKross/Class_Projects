{
  "nbformat": 4,
  "nbformat_minor": 0,
  "metadata": {
    "colab": {
      "provenance": [],
      "authorship_tag": "ABX9TyPA7eJOo+tjZ71A6KZ7nfNq",
      "include_colab_link": true
    },
    "kernelspec": {
      "name": "python3",
      "display_name": "Python 3"
    },
    "language_info": {
      "name": "python"
    }
  },
  "cells": [
    {
      "cell_type": "markdown",
      "metadata": {
        "id": "view-in-github",
        "colab_type": "text"
      },
      "source": [
        "<a href=\"https://colab.research.google.com/github/KristKross/Class_Projects/blob/main/Chapter_1/Exercise_3.ipynb\" target=\"_parent\"><img src=\"https://colab.research.google.com/assets/colab-badge.svg\" alt=\"Open In Colab\"/></a>"
      ]
    },
    {
      "cell_type": "code",
      "execution_count": 6,
      "metadata": {
        "colab": {
          "base_uri": "https://localhost:8080/"
        },
        "id": "4DFtqlVyEO22",
        "outputId": "39224393-9426-4611-9d4e-2e45de57946d"
      },
      "outputs": [
        {
          "output_type": "stream",
          "name": "stdout",
          "text": [
            "Twinkle, twinkle, little star, How I wonder what you are! Up above the world so high, Like a diamond in the sky. Twinkle, twinkle, little star, How I wonder what you are.\n"
          ]
        }
      ],
      "source": [
        "print(\"Twinkle, twinkle, little star, How I wonder what you are! Up above the world so high, Like a diamond in the sky. Twinkle, twinkle, little star, How I wonder what you are.\")"
      ]
    },
    {
      "cell_type": "code",
      "source": [
        "from datetime import datetime \n",
        "from datetime import date\n",
        "\n",
        "date_n_time = datetime.now()\n",
        "date = date_n_time.strftime(\"%d/%m/%Y\")\n",
        "print(\"Today's date is: \" + date)\n",
        "time = date_n_time.strftime(\"%H:%M:%S\")\n",
        "print(\"The time is: \" + str(time))"
      ],
      "metadata": {
        "colab": {
          "base_uri": "https://localhost:8080/"
        },
        "id": "8prsSRkOMTI6",
        "outputId": "4308222c-05e0-4456-bc93-ff2c215e4c8e"
      },
      "execution_count": 39,
      "outputs": [
        {
          "output_type": "stream",
          "name": "stdout",
          "text": [
            "Today's date is: 30/09/2022\n",
            "The time is: 21:15:46\n"
          ]
        }
      ]
    }
  ]
}
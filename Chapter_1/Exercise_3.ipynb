{
  "nbformat": 4,
  "nbformat_minor": 0,
  "metadata": {
    "colab": {
      "provenance": [],
      "authorship_tag": "ABX9TyNpBrmpDPZXojIXAkwhos+K"
    },
    "kernelspec": {
      "name": "python3",
      "display_name": "Python 3"
    },
    "language_info": {
      "name": "python"
    }
  },
  "cells": [
    {
      "cell_type": "code",
      "source": [
        "from datetime import datetime \n",
        "from datetime import date\n",
        "\n",
        "date_n_time = datetime.now()\n",
        "date = date_n_time.strftime(\"%d/%m/%Y\")\n",
        "print(\"Today's date is: \" + date)\n",
        "time = date_n_time.strftime(\"%H:%M:%S\")\n",
        "print(\"The time is: \" + str(time))"
      ],
      "metadata": {
        "colab": {
          "base_uri": "https://localhost:8080/"
        },
        "id": "8prsSRkOMTI6",
        "outputId": "4308222c-05e0-4456-bc93-ff2c215e4c8e"
      },
      "execution_count": 39,
      "outputs": [
        {
          "output_type": "stream",
          "name": "stdout",
          "text": [
            "Today's date is: 30/09/2022\n",
            "The time is: 21:15:46\n"
          ]
        }
      ]
    }
  ]
}
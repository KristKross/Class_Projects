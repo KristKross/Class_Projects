{
  "nbformat": 4,
  "nbformat_minor": 0,
  "metadata": {
    "colab": {
      "provenance": [],
      "authorship_tag": "ABX9TyNZMfM5tpUzFX+Fob1cfHcg"
    },
    "kernelspec": {
      "name": "python3",
      "display_name": "Python 3"
    },
    "language_info": {
      "name": "python"
    }
  },
  "cells": [
    {
      "cell_type": "markdown",
      "source": [
        "Exercise 1: Print Strings ☑️\n",
        "\n",
        "Write a Python program to print the following string in a specific format.\n",
        "\n",
        "Twinkle, twinkle, little star, How I wonder what you are! Up above the world so high, Like a diamond in the sky. Twinkle, twinkle, little star, How I wonder what you are"
      ],
      "metadata": {
        "id": "KmWyYi91GBVH"
      }
    },
    {
      "cell_type": "code",
      "execution_count": 5,
      "metadata": {
        "colab": {
          "base_uri": "https://localhost:8080/"
        },
        "id": "solXaZLbnbt2",
        "outputId": "ecc5b6de-c6b0-4411-8257-ddfe95c7b0c7"
      },
      "outputs": [
        {
          "output_type": "stream",
          "name": "stdout",
          "text": [
            "My favourite number is 305.\n"
          ]
        }
      ],
      "source": [
        "# using the print function to print a message to the terminal.\n",
        "print(\"Twinkle, twinkle, little star, How I wonder what you are! Up above \\\n",
        "the world so high, Like a diamond in the sky. Twinkle, twinkle, little star, \\\n",
        "How I wonder what you are\")"
      ]
    }
  ]
}
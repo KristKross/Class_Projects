{
  "nbformat": 4,
  "nbformat_minor": 0,
  "metadata": {
    "colab": {
      "provenance": [],
      "authorship_tag": "ABX9TyNomxtgMB6mCf+XFJE7H91N"
    },
    "kernelspec": {
      "name": "python3",
      "display_name": "Python 3"
    },
    "language_info": {
      "name": "python"
    }
  },
  "cells": [
    {
      "cell_type": "markdown",
      "source": [
        "Exercise 5: Compute area of Circle ☑️\n",
        "\n",
        "Write a Python program which accepts the radius of a circle from the user and compute the area."
      ],
      "metadata": {
        "id": "kA_InrU_56Cf"
      }
    },
    {
      "cell_type": "code",
      "source": [
        "from math import pi\n",
        "\n",
        "radius = int(input(\"Enter radius(cm): \"))\n",
        "area = radius * pi ** 2\n",
        "area_rounded = \"{:.2f}\".format(area)\n",
        "print(\"\\nThe area of a circle with a radius of \" + str(radius) + \\\n",
        "      \" is \" + str(area_rounded) + \"cm^2\")"
      ],
      "metadata": {
        "colab": {
          "base_uri": "https://localhost:8080/"
        },
        "id": "8prsSRkOMTI6",
        "outputId": "fa785c29-04fb-4c9b-a456-fa4d7036113a"
      },
      "execution_count": 28,
      "outputs": [
        {
          "output_type": "stream",
          "name": "stdout",
          "text": [
            "Enter radius(cm): 10\n",
            "\n",
            "The area of a circle with a radius of 10 is 98.70cm^2\n"
          ]
        }
      ]
    }
  ]
}
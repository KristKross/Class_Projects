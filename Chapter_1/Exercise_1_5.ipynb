{
  "nbformat": 4,
  "nbformat_minor": 0,
  "metadata": {
    "colab": {
      "provenance": [],
      "authorship_tag": "ABX9TyPQSGA8nn5nDrQQZGVP4d+M"
    },
    "kernelspec": {
      "name": "python3",
      "display_name": "Python 3"
    },
    "language_info": {
      "name": "python"
    }
  },
  "cells": [
    {
      "cell_type": "markdown",
      "source": [
        "Exercise 5: Compute area of Circle ☑️\n",
        "\n",
        "Write a Python program which accepts the radius of a circle from the user and compute the area."
      ],
      "metadata": {
        "id": "KmWyYi91GBVH"
      }
    },
    {
      "cell_type": "code",
      "execution_count": 5,
      "metadata": {
        "colab": {
          "base_uri": "https://localhost:8080/"
        },
        "id": "solXaZLbnbt2",
        "outputId": "ecc5b6de-c6b0-4411-8257-ddfe95c7b0c7"
      },
      "outputs": [
        {
          "output_type": "stream",
          "name": "stdout",
          "text": [
            "My favourite number is 305.\n"
          ]
        }
      ],
      "source": [
        "from math import pi\n",
        "\n",
        "# using input to get user data.\n",
        "radius = int(input(\"Enter radius(cm): \"))\n",
        "\n",
        "# the math required for the programme.\n",
        "area = radius * pi ** 2\n",
        "\n",
        "area_rounded = \"{:.2f}\".format(area)\n",
        "print(\"\\nThe area of a circle with a radius of \" + str(radius) + \\\n",
        "      \" is \" + str(area_rounded) + \"cm^2\")"
      ]
    }
  ]
}
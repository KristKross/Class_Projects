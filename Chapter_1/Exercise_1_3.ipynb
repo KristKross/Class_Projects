{
  "nbformat": 4,
  "nbformat_minor": 0,
  "metadata": {
    "colab": {
      "provenance": [],
      "authorship_tag": "ABX9TyP79sEI8r5cVZPGlRYWFdNF"
    },
    "kernelspec": {
      "name": "python3",
      "display_name": "Python 3"
    },
    "language_info": {
      "name": "python"
    }
  },
  "cells": [
    {
      "cell_type": "markdown",
      "source": [
        "Exercise 3: Print date and Time ☑️\n",
        "\n",
        "Write a Python program to display the current date and time."
      ],
      "metadata": {
        "id": "KmWyYi91GBVH"
      }
    },
    {
      "cell_type": "code",
      "execution_count": 7,
      "metadata": {
        "colab": {
          "base_uri": "https://localhost:8080/"
        },
        "id": "solXaZLbnbt2",
        "outputId": "70e6f320-bb97-435f-c694-ede3ffac2a8f"
      },
      "outputs": [
        {
          "output_type": "stream",
          "name": "stdout",
          "text": [
            "Today's date is: 04/11/2022\n",
            "The time is: 15:10:48\n"
          ]
        }
      ],
      "source": [
        "# importing modules.\n",
        "from datetime import datetime \n",
        "from datetime import date\n",
        "\n",
        "date_time = datetime.now()\n",
        "\n",
        "# printing the date and time with a given format.\n",
        "date = date_time.strftime(\"%d/%m/%Y\")\n",
        "print(\"Today's date is: \" + date)\n",
        "time = date_time.strftime(\"%H:%M:%S\")\n",
        "print(\"The time is: \" + str(time))"
      ]
    }
  ]
}
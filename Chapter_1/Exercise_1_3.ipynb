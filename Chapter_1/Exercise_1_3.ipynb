{
  "nbformat": 4,
  "nbformat_minor": 0,
  "metadata": {
    "colab": {
      "provenance": [],
      "authorship_tag": "ABX9TyPSXGh3Op+wLDYdCv++noTA"
    },
    "kernelspec": {
      "name": "python3",
      "display_name": "Python 3"
    },
    "language_info": {
      "name": "python"
    }
  },
  "cells": [
    {
      "cell_type": "markdown",
      "source": [
        "Exercise 3: Print date and Time ☑️\n",
        "\n",
        "Write a Python program to display the current date and time."
      ],
      "metadata": {
        "id": "kA_InrU_56Cf"
      }
    },
    {
      "cell_type": "code",
      "source": [
        "from datetime import datetime \n",
        "from datetime import date\n",
        "\n",
        "date_n_time = datetime.now()\n",
        "date = date_n_time.strftime(\"%d/%m/%Y\")\n",
        "print(\"Today's date is: \" + date)\n",
        "time = date_n_time.strftime(\"%H:%M:%S\")\n",
        "print(\"The time is: \" + str(time))"
      ],
      "metadata": {
        "colab": {
          "base_uri": "https://localhost:8080/"
        },
        "id": "8prsSRkOMTI6",
        "outputId": "466ea6a0-3d30-40aa-e316-217d1b0f01f2"
      },
      "execution_count": 8,
      "outputs": [
        {
          "output_type": "stream",
          "name": "stdout",
          "text": [
            "Today's date is: 01/11/2022\n",
            "The time is: 23:49:20\n"
          ]
        }
      ]
    }
  ]
}
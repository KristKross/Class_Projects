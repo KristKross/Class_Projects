{
  "nbformat": 4,
  "nbformat_minor": 0,
  "metadata": {
    "colab": {
      "provenance": [],
      "authorship_tag": "ABX9TyOmUHBaiu5Uam5SwmBCBNir"
    },
    "kernelspec": {
      "name": "python3",
      "display_name": "Python 3"
    },
    "language_info": {
      "name": "python"
    }
  },
  "cells": [
    {
      "cell_type": "code",
      "execution_count": null,
      "metadata": {
        "id": "O-QB1tzb8O8c",
        "colab": {
          "base_uri": "https://localhost:8080/"
        },
        "outputId": "0af2929d-8724-44ec-c80e-3bab3de4f327"
      },
      "outputs": [
        {
          "output_type": "stream",
          "name": "stdout",
          "text": [
            "This number is positive\n"
          ]
        }
      ],
      "source": [
        "num = 1\n",
        "\n",
        "if num >= 0:\n",
        "  print(\"This number is positive\")"
      ]
    },
    {
      "cell_type": "code",
      "source": [
        "num1 = int(input(\"Enter first number: \"))\n",
        "num2 = int(input(\"Enter second number: \"))\n",
        "\n",
        "if num1 < num2:\n",
        "  print(\"The first number is lesser than the second number.\")"
      ],
      "metadata": {
        "colab": {
          "base_uri": "https://localhost:8080/"
        },
        "id": "4HK_RuwP2dQR",
        "outputId": "93a143a7-92f3-41dd-e4ef-cc5621601ea5"
      },
      "execution_count": null,
      "outputs": [
        {
          "output_type": "stream",
          "name": "stdout",
          "text": [
            "Enter first number:6\n",
            "Enter second number:7\n",
            "The first number is lesser than the second number.\n"
          ]
        }
      ]
    },
    {
      "cell_type": "code",
      "source": [
        "num1 = int(input(\"Enter first number: \"))\n",
        "num2 = int(input(\"Enter second number: \"))\n",
        "\n",
        "if num1 > num2:\n",
        "  print(\"The first number(\" + str(num1) + \") is greater than the second number(\" + str(num2) + \").\")\n",
        "else:\n",
        "  print(\"The first number(\" + str(num1) + \") is lesser than the second number(\" + str(num2) + \").\")"
      ],
      "metadata": {
        "colab": {
          "base_uri": "https://localhost:8080/"
        },
        "id": "2ZbP7VK13KE_",
        "outputId": "aab8c63b-0ff4-4488-d274-59ab0b5c6133"
      },
      "execution_count": null,
      "outputs": [
        {
          "output_type": "stream",
          "name": "stdout",
          "text": [
            "Enter first number: 7\n",
            "Enter second number: 5\n",
            "The first number(7) is greater than the second number(5).\n"
          ]
        }
      ]
    },
    {
      "cell_type": "code",
      "source": [
        "num1 = int(input(\"Enter first number: \"))\n",
        "num2 = int(input(\"Enter second number: \"))\n",
        "\n",
        "if num1 > num2:\n",
        "  print(\"The first number(\" + str(num1) + \") is greater than the second number(\" + str(num2) + \").\")\n",
        "elif num1 == num2:\n",
        "  print(\"The first number(\" + str(num1) + \") is equal to the second number(\" + str(num2) + \").\")\n",
        "else:\n",
        "  print(\"The first number(\" + str(num1) + \") is lesser than the second number(\" + str(num2) + \").\")"
      ],
      "metadata": {
        "colab": {
          "base_uri": "https://localhost:8080/"
        },
        "id": "jDaJKiA77448",
        "outputId": "88b24524-5c42-4561-b799-5118dbc9732d"
      },
      "execution_count": null,
      "outputs": [
        {
          "output_type": "stream",
          "name": "stdout",
          "text": [
            "Enter first number: 6\n",
            "Enter second number: 6\n",
            "The first number(6) is equal to the second number(6).\n"
          ]
        }
      ]
    },
    {
      "cell_type": "code",
      "source": [
        "program = False\n",
        "\n",
        "while program == False:\n",
        "\n",
        "  location = input(\"Enter location USA or Australia: \")\n",
        "  shipment = int(input(\"Enter shipment amount: \"))\n",
        "\n",
        "  if location.upper() == \"USA\":\n",
        "    program = True\n",
        "    if shipment <= 50:\n",
        "       print(\"Shipment cost: 50$\")\n",
        "    else:\n",
        "       print(\"Shipment cost: 25$\")\n",
        "       \n",
        "  elif location.upper() == \"AUSTRALIA\":\n",
        "    program = True\n",
        "    if shipment <= 100:\n",
        "      print(\"Shipment cost: 150$\")\n",
        "    else:\n",
        "      print(\"Shipment cost: 15$\")\n",
        "\n",
        "  else:\n",
        "    print(\"Location invalid. Try again.\\n\")"
      ],
      "metadata": {
        "colab": {
          "base_uri": "https://localhost:8080/"
        },
        "id": "kluSbzafCs5q",
        "outputId": "5775a1b5-7ba4-4e10-d2d5-dc9af132ac5d"
      },
      "execution_count": null,
      "outputs": [
        {
          "output_type": "stream",
          "name": "stdout",
          "text": [
            "Enter location USA or Australia: USA\n",
            "Enter shipment amount: 70\n",
            "Shipment cost: 25$\n"
          ]
        }
      ]
    },
    {
      "cell_type": "code",
      "source": [
        "flowers = [\"Marigold\", \"Sunflower\", \"Roses\"]\n",
        "print(flowers)\n",
        "\n",
        "flowers[0] = \"Daisies\"\n",
        "print(flowers)\n",
        "\n",
        "flowers.append(\"Lilies\") \n",
        "print(flowers)\n",
        "\n",
        "flowers.insert(0, \"Daffodils\")\n",
        "print(flowers)\n",
        "\n",
        "flowers.remove(\"Daisies\")\n",
        "print(flowers)\n",
        "\n",
        "flowers.pop()\n",
        "print(flowers)\n",
        "\n",
        "flowers.sort(reverse=True)\n",
        "print(flowers)\n",
        "\n",
        "del flowers[0]\n",
        "del flowers[0]\n",
        "del flowers[0]\n",
        "print(flowers)"
      ],
      "metadata": {
        "colab": {
          "base_uri": "https://localhost:8080/"
        },
        "id": "roUK9SwKPMnH",
        "outputId": "b2644e2b-dbb2-4900-917f-bd7d57b244db"
      },
      "execution_count": 1,
      "outputs": [
        {
          "output_type": "stream",
          "name": "stdout",
          "text": [
            "['Marigold', 'Sunflower', 'Roses']\n",
            "['Daisies', 'Sunflower', 'Roses']\n",
            "['Daisies', 'Sunflower', 'Roses', 'Lilies']\n",
            "['Daffodils', 'Daisies', 'Sunflower', 'Roses', 'Lilies']\n",
            "['Daffodils', 'Sunflower', 'Roses', 'Lilies']\n",
            "['Daffodils', 'Sunflower', 'Roses']\n",
            "['Sunflower', 'Roses', 'Daffodils']\n",
            "[]\n"
          ]
        }
      ]
    },
    {
      "cell_type": "code",
      "source": [
        "num1 = int(input(\"Enter First Number: \"))\n",
        "operator = input(\"Enter operator: \")\n",
        "num2 = int(input(\"Enter Second Number: \"))\n",
        "\n",
        "\n",
        "if operator == \"+\":\n",
        "    answer = num1 + num2\n",
        "    print(\"\\nThe addition of \" + str(num1) + \" and \" + str(num2) + \" is \" + str(answer))\n",
        "elif operator == \"-\":\n",
        "    answer = num1 - num2\n",
        "    print(\"\\nThe subtraction of \" + str(num1) + \" and \" + str(num2) + \" is \" + str(answer))\n",
        "elif operator == \"*\":\n",
        "    answer = num1 * num2\n",
        "    print(\"\\nThe multiplication of \" + str(num1) + \" and \" + str(num2) + \" is \" + str(answer))\n",
        "elif operator == \"/\":\n",
        "    answer = num1 / num2\n",
        "    print(\"\\nThe division of \" + str(num1) + \" and \" + str(num2) + \" is \" + str(answer))\n",
        "elif operator == \"%\":\n",
        "    answer = num1 % num2\n",
        "    print(\"\\nThe modulus of \" + str(num1) + \" and \" + str(num2) + \" is \" + str(answer))\n",
        "elif operator == \"**\":\n",
        "    answer = num1 ** num2\n",
        "    print(\"\\nThe power of \" + str(num1) + \" and \" + str(num2) + \" is \" + str(answer))\n",
        "else:\n",
        "    print(\"\\noperator error.\")"
      ],
      "metadata": {
        "colab": {
          "base_uri": "https://localhost:8080/"
        },
        "id": "ZsPGjkahWGKS",
        "outputId": "5f5908aa-4700-4654-ff26-0ece383c7e3b"
      },
      "execution_count": 2,
      "outputs": [
        {
          "output_type": "stream",
          "name": "stdout",
          "text": [
            "Enter First Number: 7\n",
            "Enter operator: **\n",
            "Enter Second Number: 2\n",
            "\n",
            "The power of 7 and 2 is 49\n"
          ]
        }
      ]
    }
  ]
}
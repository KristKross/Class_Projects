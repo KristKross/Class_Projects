{
  "nbformat": 4,
  "nbformat_minor": 0,
  "metadata": {
    "colab": {
      "provenance": [],
      "authorship_tag": "ABX9TyOxRBFtLzestwFuDCJ5u4tC"
    },
    "kernelspec": {
      "name": "python3",
      "display_name": "Python 3"
    },
    "language_info": {
      "name": "python"
    }
  },
  "cells": [
    {
      "cell_type": "markdown",
      "source": [
        "Exercise 3: T-Shirt ☑️\n",
        "\n",
        "Write a function called make_shirt() that accepts a size and the text of a message that should be printed on the shirt. The function\n",
        "\n",
        "should print a sentence summarizing the size of the shirt and the message printed on it. Call the function once using positional\n",
        "\n",
        "arguments to make a shirt. Call the function a second time using keyword arguments."
      ],
      "metadata": {
        "id": "kA_InrU_56Cf"
      }
    },
    {
      "cell_type": "code",
      "source": [
        "def make_shirt(size, text):\n",
        "  print(\"The size of the shirt is \" + size)\n",
        "  print(\"The graphic print text reads \" + text.title())\n",
        "  \n",
        "make_shirt(\"small\", \"best at python!\")"
      ],
      "metadata": {
        "colab": {
          "base_uri": "https://localhost:8080/"
        },
        "id": "8prsSRkOMTI6",
        "outputId": "07a54f3c-fdab-4b50-b3f8-3b5b743a9f74"
      },
      "execution_count": 192,
      "outputs": [
        {
          "output_type": "stream",
          "name": "stdout",
          "text": [
            "The size of the shirt is small\n",
            "The graphic print text reads Best At Python!\n"
          ]
        }
      ]
    }
  ]
}
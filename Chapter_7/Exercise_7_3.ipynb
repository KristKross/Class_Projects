{
  "nbformat": 4,
  "nbformat_minor": 0,
  "metadata": {
    "colab": {
      "provenance": [],
      "authorship_tag": "ABX9TyMRD045r7ju+1NvwZ6fne75"
    },
    "kernelspec": {
      "name": "python3",
      "display_name": "Python 3"
    },
    "language_info": {
      "name": "python"
    }
  },
  "cells": [
    {
      "cell_type": "markdown",
      "source": [
        "Exercise 3: T-Shirt ☑️\n",
        "\n",
        "Write a function called make_shirt() that accepts a size and the text of a message that should be printed on the shirt. The function\n",
        "\n",
        "should print a sentence summarizing the size of the shirt and the message printed on it. Call the function once using positional\n",
        "\n",
        "arguments to make a shirt. Call the function a second time using keyword arguments."
      ],
      "metadata": {
        "id": "KmWyYi91GBVH"
      }
    },
    {
      "cell_type": "code",
      "execution_count": 11,
      "metadata": {
        "colab": {
          "base_uri": "https://localhost:8080/"
        },
        "id": "solXaZLbnbt2",
        "outputId": "7c36c20c-2777-400c-d093-f79f13282f25"
      },
      "outputs": [
        {
          "output_type": "stream",
          "name": "stdout",
          "text": [
            "The size of the shirt is small\n",
            "The graphic print text reads Best At Python!\n"
          ]
        }
      ],
      "source": [
        "# using the def() function to make my own variable and adding two parameter.\n",
        "def make_shirt(size, text):\n",
        "  print(\"The size of the shirt is \" + size)\n",
        "  print(\"The graphic print text reads \" + text.title())\n",
        "  \n",
        "# calling the function and adding two of my own value.\n",
        "make_shirt(\"small\", \"best at python!\")"
      ]
    }
  ]
}
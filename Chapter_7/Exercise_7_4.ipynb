{
  "nbformat": 4,
  "nbformat_minor": 0,
  "metadata": {
    "colab": {
      "provenance": [],
      "authorship_tag": "ABX9TyMpbCvnm7kHxGUeduRFLF/u"
    },
    "kernelspec": {
      "name": "python3",
      "display_name": "Python 3"
    },
    "language_info": {
      "name": "python"
    }
  },
  "cells": [
    {
      "cell_type": "markdown",
      "source": [
        "Exercise 4: Large Shirts ☑️\n",
        "\n",
        "Modify the make_shirt() function so that shirts are large by default with a message that reads I love Python. Make a large shirt and a\n",
        "\n",
        "medium shirt with the default message, and a shirt of any size with a different message."
      ],
      "metadata": {
        "id": "kA_InrU_56Cf"
      }
    },
    {
      "cell_type": "code",
      "source": [
        "def make_shirt(size=\"large\", text=\"I love Python\"):\n",
        "  print(\"The size of the shirt is \" + size)\n",
        "  print(\"The graphic print text reads \" + text + \"\\n\")\n",
        "  \n",
        "make_shirt()\n",
        "make_shirt(\"medium\")\n",
        "make_shirt(\"small\", \"The Greatest!\")"
      ],
      "metadata": {
        "colab": {
          "base_uri": "https://localhost:8080/"
        },
        "id": "8prsSRkOMTI6",
        "outputId": "5c048477-7747-4974-dd74-00c261bc1646"
      },
      "execution_count": 199,
      "outputs": [
        {
          "output_type": "stream",
          "name": "stdout",
          "text": [
            "The size of the shirt is large\n",
            "The graphic print text reads I love Python\n",
            "\n",
            "The size of the shirt is medium\n",
            "The graphic print text reads I love Python\n",
            "\n",
            "The size of the shirt is small\n",
            "The graphic print text reads The Greatest!\n",
            "\n"
          ]
        }
      ]
    }
  ]
}
{
  "nbformat": 4,
  "nbformat_minor": 0,
  "metadata": {
    "colab": {
      "provenance": [],
      "authorship_tag": "ABX9TyOhPbxoZULtaiKkpInxmhas"
    },
    "kernelspec": {
      "name": "python3",
      "display_name": "Python 3"
    },
    "language_info": {
      "name": "python"
    }
  },
  "cells": [
    {
      "cell_type": "markdown",
      "source": [
        "Exercise 4: Large Shirts ☑️\n",
        "\n",
        "Modify the make_shirt() function so that shirts are large by default with a message that reads I love Python. Make a large shirt and a\n",
        "\n",
        "medium shirt with the default message, and a shirt of any size with a different message."
      ],
      "metadata": {
        "id": "KmWyYi91GBVH"
      }
    },
    {
      "cell_type": "code",
      "execution_count": 13,
      "metadata": {
        "colab": {
          "base_uri": "https://localhost:8080/"
        },
        "id": "solXaZLbnbt2",
        "outputId": "9204de1f-e5b2-4451-d903-0e273b2da319"
      },
      "outputs": [
        {
          "output_type": "stream",
          "name": "stdout",
          "text": [
            "The size of the shirt is large\n",
            "The graphic print text reads I love Python\n",
            "\n",
            "The size of the shirt is medium\n",
            "The graphic print text reads I love Python\n",
            "\n",
            "The size of the shirt is small\n",
            "The graphic print text reads The Greatest!\n",
            "\n"
          ]
        }
      ],
      "source": [
        "# using the def() function to make my own variable and adding two parameter with a default parameter.\n",
        "def make_shirt(size=\"large\", text=\"I love Python\"):\n",
        "  print(\"The size of the shirt is \" + size)\n",
        "  print(\"The graphic print text reads \" + text + \"\\n\")\n",
        "  \n",
        "# calling the function and keeping some default and one not default.\n",
        "make_shirt()\n",
        "make_shirt(\"medium\")\n",
        "make_shirt(\"small\", \"The Greatest!\")"
      ]
    }
  ]
}
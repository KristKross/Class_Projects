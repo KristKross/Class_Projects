{
  "nbformat": 4,
  "nbformat_minor": 0,
  "metadata": {
    "colab": {
      "provenance": [],
      "authorship_tag": "ABX9TyPkcBtyuTRkGn35udnhPTI9"
    },
    "kernelspec": {
      "name": "python3",
      "display_name": "Python 3"
    },
    "language_info": {
      "name": "python"
    }
  },
  "cells": [
    {
      "cell_type": "markdown",
      "source": [
        "Exercise 2: Favorite Book ☑️\n",
        "\n",
        "Write a function called favorite_book() that accepts one parameter, title. The function should print a message, such as One of my\n",
        "\n",
        "favorite books is Alice in Wonderland. Call the function, making sure to include a book title as an argument in the function call.\n",
        "\n"
      ],
      "metadata": {
        "id": "KmWyYi91GBVH"
      }
    },
    {
      "cell_type": "code",
      "execution_count": 10,
      "metadata": {
        "colab": {
          "base_uri": "https://localhost:8080/"
        },
        "id": "solXaZLbnbt2",
        "outputId": "de03b3a4-c5be-49f6-d0b3-282619c8cea8"
      },
      "outputs": [
        {
          "output_type": "stream",
          "name": "stdout",
          "text": [
            "My favourite book is 1984 by George Orwell\n"
          ]
        }
      ],
      "source": [
        "# using the def() function to make my own variable and adding a parameter.\n",
        "def favourite_book(book):\n",
        "  print(\"My favourite book is \" + book)\n",
        "\n",
        "# calling the function and adding my own value.\n",
        "favourite_book(\"1984 by George Orwell.\")"
      ]
    }
  ]
}
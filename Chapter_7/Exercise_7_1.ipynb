{
  "nbformat": 4,
  "nbformat_minor": 0,
  "metadata": {
    "colab": {
      "provenance": [],
      "authorship_tag": "ABX9TyOBZc7u50GJWlnmNRmS+Ia9"
    },
    "kernelspec": {
      "name": "python3",
      "display_name": "Python 3"
    },
    "language_info": {
      "name": "python"
    }
  },
  "cells": [
    {
      "cell_type": "markdown",
      "source": [
        "Exercise 1: Message ☑️\n",
        "\n",
        "Write a function called display_message() that prints one sentence telling everyone what you are learning about in this chapter. Call the\n",
        "\n",
        "function, and make sure the message displays correctly.\n",
        "\n",
        "\n",
        "\n"
      ],
      "metadata": {
        "id": "KmWyYi91GBVH"
      }
    },
    {
      "cell_type": "code",
      "execution_count": null,
      "metadata": {
        "id": "solXaZLbnbt2"
      },
      "outputs": [],
      "source": [
        "# using the def() function to make my own variable.\n",
        "def display_message():\n",
        "  print(\"Today we are learning the def function!\")\n",
        "\n",
        "# calling the function.\n",
        "display_message()"
      ]
    }
  ]
}
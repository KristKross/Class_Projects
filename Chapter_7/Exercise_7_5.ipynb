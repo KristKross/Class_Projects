{
  "nbformat": 4,
  "nbformat_minor": 0,
  "metadata": {
    "colab": {
      "provenance": [],
      "authorship_tag": "ABX9TyPV1hlcWwvaU5HeOMszdfzV"
    },
    "kernelspec": {
      "name": "python3",
      "display_name": "Python 3"
    },
    "language_info": {
      "name": "python"
    }
  },
  "cells": [
    {
      "cell_type": "markdown",
      "source": [
        "Exercise 5: Cities ☑️\n",
        "\n",
        "Write a function called describe_city() that accepts the name of a city and its country. The function should print a simple sentence,\n",
        "\n",
        "such as Reykjavik is in Iceland. Give the parameter for the country a default value.\n",
        "\n",
        "Call your function for three different cities, at least one of which is not in the default country."
      ],
      "metadata": {
        "id": "KmWyYi91GBVH"
      }
    },
    {
      "cell_type": "code",
      "execution_count": 14,
      "metadata": {
        "colab": {
          "base_uri": "https://localhost:8080/"
        },
        "id": "solXaZLbnbt2",
        "outputId": "1e0306a8-61e0-44a8-ab31-fae0033ac38c"
      },
      "outputs": [
        {
          "output_type": "stream",
          "name": "stdout",
          "text": [
            "Parma is in Italy.\n",
            "\n",
            "Venice is in Italy.\n",
            "\n",
            "Fuji is in Japan.\n",
            "\n"
          ]
        }
      ],
      "source": [
        "# using the def() function to make my own variable and adding two parameter with one default parameter.\n",
        "def describe_city(city, country=\"Italy\"):\n",
        "  print(city + \" is in \" + country + \".\\n\")\n",
        "\n",
        "# calling the function and keeping some the country default and one not default.\n",
        "describe_city(\"Parma\")\n",
        "describe_city(\"Venice\")\n",
        "describe_city(\"Fuji\", \"Japan\")"
      ]
    }
  ]
}
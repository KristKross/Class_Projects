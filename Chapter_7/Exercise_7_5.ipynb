{
  "nbformat": 4,
  "nbformat_minor": 0,
  "metadata": {
    "colab": {
      "provenance": [],
      "authorship_tag": "ABX9TyOva/W6t0HFZF1DOuxLoxCX"
    },
    "kernelspec": {
      "name": "python3",
      "display_name": "Python 3"
    },
    "language_info": {
      "name": "python"
    }
  },
  "cells": [
    {
      "cell_type": "markdown",
      "source": [
        "Exercise 5: Cities\n",
        "\n",
        "Write a function called describe_city() that accepts the name of a city and its country. The function should print a simple sentence,\n",
        "\n",
        "such as Reykjavik is in Iceland. Give the parameter for the country a default value.\n",
        "\n",
        "Call your function for three different cities, at least one of which is not in the default country."
      ],
      "metadata": {
        "id": "kA_InrU_56Cf"
      }
    },
    {
      "cell_type": "code",
      "source": [
        "def describe_city(city, country=\"Italy\"):\n",
        "  print(city + \" is in \" + country + \".\\n\")\n",
        "\n",
        "describe_city(\"Parma\")\n",
        "describe_city(\"Venice\")\n",
        "describe_city(\"Fuji\", \"Japan\")"
      ],
      "metadata": {
        "colab": {
          "base_uri": "https://localhost:8080/"
        },
        "id": "8prsSRkOMTI6",
        "outputId": "b9fa7890-5a33-4001-b24f-4b1f5d5cd23b"
      },
      "execution_count": 203,
      "outputs": [
        {
          "output_type": "stream",
          "name": "stdout",
          "text": [
            "Parma is in Italy.\n",
            "\n",
            "Venice is in Italy.\n",
            "\n",
            "Fuji is in Japan.\n",
            "\n"
          ]
        }
      ]
    }
  ]
}
{
  "nbformat": 4,
  "nbformat_minor": 0,
  "metadata": {
    "colab": {
      "provenance": [],
      "authorship_tag": "ABX9TyOt5DqzD6v5pk5RH+eNiMmt"
    },
    "kernelspec": {
      "name": "python3",
      "display_name": "Python 3"
    },
    "language_info": {
      "name": "python"
    }
  },
  "cells": [
    {
      "cell_type": "markdown",
      "source": [
        "Exercise 3: Stripping Names ☑️\n",
        "\n",
        "Tidy up the code to make it easier to understand\n",
        "\n",
        "Use a variable to represent a person’s name, and include some whitespace characters at the beginning and end of the name. Make sure you use each character combination, “\\t” and “\\n”, at least once.\n",
        "\n",
        "Print the name once, so the whitespace around the name is displayed.\n",
        "\n",
        "Then print the name using each of the three stripping functions, lstrip(), rstrip(), and strip()."
      ],
      "metadata": {
        "id": "KmWyYi91GBVH"
      }
    },
    {
      "cell_type": "code",
      "execution_count": 2,
      "metadata": {
        "colab": {
          "base_uri": "https://localhost:8080/"
        },
        "id": "solXaZLbnbt2",
        "outputId": "c72c458d-a4a3-4a17-872d-7faa5673ee6b"
      },
      "outputs": [
        {
          "output_type": "stream",
          "name": "stdout",
          "text": [
            "Kristian\n",
            "\n",
            " \tKristian\n",
            "Kristian\n"
          ]
        }
      ],
      "source": [
        "# using the strip() function to remove the extra whitespaces.\n",
        "name = \" \\tKristian\\n\"\n",
        "print(name.lstrip())\n",
        "print(name.rstrip())\n",
        "print(name.strip())"
      ]
    }
  ]
}
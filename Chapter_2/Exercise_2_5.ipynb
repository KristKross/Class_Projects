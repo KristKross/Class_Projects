{
  "nbformat": 4,
  "nbformat_minor": 0,
  "metadata": {
    "colab": {
      "provenance": [],
      "authorship_tag": "ABX9TyPP7iOErisfKf7REAK+hvhM"
    },
    "kernelspec": {
      "name": "python3",
      "display_name": "Python 3"
    },
    "language_info": {
      "name": "python"
    }
  },
  "cells": [
    {
      "cell_type": "code",
      "source": [
        "money = 50\n",
        "usb_cost = 6\n",
        "\n",
        "item_amount = money // usb_cost\n",
        "change = money - item_amount * usb_cost\n",
        "\n",
        "print(\"The amount of USBs that can be bought with £50" is \" + str(item_amount)\\\n",
        "       + \" USBs.\")\n",
        "print(\"The amount of change is £\" + str(change) + \".\")"
      ],
      "metadata": {
        "colab": {
          "base_uri": "https://localhost:8080/"
        },
        "id": "8prsSRkOMTI6",
        "outputId": "ab55de81-00c6-4088-eca2-1bbb28672d18"
      },
      "execution_count": 37,
      "outputs": [
        {
          "output_type": "stream",
          "name": "stdout",
          "text": [
            "The amount of USBs that can be bought with £50 is 8 USBs.\n",
            "The amount of change is £2.\n"
          ]
        }
      ]
    }
  ]
}

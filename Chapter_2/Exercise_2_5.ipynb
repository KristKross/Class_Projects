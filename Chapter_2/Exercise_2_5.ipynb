{
  "nbformat": 4,
  "nbformat_minor": 0,
  "metadata": {
    "colab": {
      "provenance": [],
      "authorship_tag": "ABX9TyNX9IN7qu6xy/+D5te46RgJ"
    },
    "kernelspec": {
      "name": "python3",
      "display_name": "Python 3"
    },
    "language_info": {
      "name": "python"
    }
  },
  "cells": [
    {
      "cell_type": "code",
      "execution_count": 1,
      "metadata": {
        "colab": {
          "base_uri": "https://localhost:8080/"
        },
        "id": "oG-l6PZJ_9Qx",
        "outputId": "1a23e197-5c61-4dda-a87b-3fe1668823e5"
      },
      "outputs": [
        {
          "output_type": "stream",
          "name": "stdout",
          "text": [
            "The amount of USBs that can be bought with £50 is 8 and the amount of change is £2.\n"
          ]
        }
      ],
      "source": [
        "money = 50\n",
        "usb_costs = 6\n",
        "\n",
        "item_amount = money//usb_costs\n",
        "change = money - usb_costs * item_amount\n",
        "\n",
        "print(\"The amount of USBs that can be bought with £\" + str(money) + \" is \" \\\n",
        "      + str(item_amount) + \" and the amount of change is £\" + str(change) + \".\")\n",
        "\n"
      ]
    }
  ]
}
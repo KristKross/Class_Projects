{
  "nbformat": 4,
  "nbformat_minor": 0,
  "metadata": {
    "colab": {
      "provenance": [],
      "authorship_tag": "ABX9TyNpODqSQ0iovwzVLJVESpJq"
    },
    "kernelspec": {
      "name": "python3",
      "display_name": "Python 3"
    },
    "language_info": {
      "name": "python"
    }
  },
  "cells": [
    {
      "cell_type": "code",
      "execution_count": 2,
      "metadata": {
        "colab": {
          "base_uri": "https://localhost:8080/"
        },
        "id": "solXaZLbnbt2",
        "outputId": "8e29d082-90ad-4990-bbb9-13b83f20fa55"
      },
      "outputs": [
        {
          "output_type": "stream",
          "name": "stdout",
          "text": [
            "The amount of USBs that can be bought with £50 is 8 USBs and the amount of change is £2.\n"
          ]
        }
      ],
      "source": [
        "# The two variables that are required for the programme.\n",
        "money = 50\n",
        "usb_costs = 6\n",
        "\n",
        "# The math that calculates the item amount and change.\n",
        "item_amount = money // usb_costs\n",
        "change = money % usb_costs \n",
        "\n",
        "print(\"The amount of USBs that can be bought with £\" + str(money) + \" is \"\\\n",
        "      + str(item_amount) + \" USBs and the amount of change is £\" + str(change)\\\n",
        "      + \".\")"
      ]
    }
  ]
}
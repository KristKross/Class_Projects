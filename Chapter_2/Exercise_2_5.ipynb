{
  "nbformat": 4,
  "nbformat_minor": 0,
  "metadata": {
    "colab": {
      "provenance": [],
      "authorship_tag": "ABX9TyPAdq3+qmjIl0ATUAVab/pk"
    },
    "kernelspec": {
      "name": "python3",
      "display_name": "Python 3"
    },
    "language_info": {
      "name": "python"
    }
  },
  "cells": [
    {
      "cell_type": "code",
      "execution_count": 10,
      "metadata": {
        "colab": {
          "base_uri": "https://localhost:8080/"
        },
        "id": "oG-l6PZJ_9Qx",
        "outputId": "87316afe-ceb4-417a-f74e-d20bbcd03536"
      },
      "outputs": [
        {
          "output_type": "stream",
          "name": "stdout",
          "text": [
            "The amount of USBs that can be bought with £50 is 8 USBs and the amount of change is £2.\n"
          ]
        }
      ],
      "source": [
        "# The two variables that are required for the programme.\n",
        "money = 50\n",
        "usb_costs = 6\n",
        "\n",
        "# The math that calculates the item amount and change.\n",
        "item_amount = money // usb_costs\n",
        "change = money - usb_costs * item_amount\n",
        "\n",
        "print(\"The amount of USBs that can be bought with £\" + str(money) + \" is \"\\\n",
        "      + str(item_amount) + \" USBs and the amount of change is £\" + str(change)\\\n",
        "      + \".\")\n",
        "\n"
      ]
    }
  ]
}
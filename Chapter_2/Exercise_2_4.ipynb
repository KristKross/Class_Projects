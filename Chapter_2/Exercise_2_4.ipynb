{
  "nbformat": 4,
  "nbformat_minor": 0,
  "metadata": {
    "colab": {
      "provenance": [],
      "authorship_tag": "ABX9TyOlGXASYSD4B7+GgDQDiftN"
    },
    "kernelspec": {
      "name": "python3",
      "display_name": "Python 3"
    },
    "language_info": {
      "name": "python"
    }
  },
  "cells": [
    {
      "cell_type": "markdown",
      "source": [
        "Exercise 4: Favorite Number ☑️\n",
        "\n",
        "Use a variable to represent your favorite number. Then,using that variable, create a message that reveals your favorite number. Print that message."
      ],
      "metadata": {
        "id": "KmWyYi91GBVH"
      }
    },
    {
      "cell_type": "code",
      "execution_count": 5,
      "metadata": {
        "colab": {
          "base_uri": "https://localhost:8080/"
        },
        "id": "solXaZLbnbt2",
        "outputId": "ecc5b6de-c6b0-4411-8257-ddfe95c7b0c7"
      },
      "outputs": [
        {
          "output_type": "stream",
          "name": "stdout",
          "text": [
            "My favourite number is 305.\n"
          ]
        }
      ],
      "source": [
        "fav_num = 305\n",
        "\n",
        "# concatenating an integer with a string.\n",
        "print(\"My favourite number is \" + str(fav_num) + \".\")"
      ]
    }
  ]
}
{
  "nbformat": 4,
  "nbformat_minor": 0,
  "metadata": {
    "colab": {
      "provenance": [],
      "authorship_tag": "ABX9TyOf5GQtCyhn8Is9A9TH6ayC"
    },
    "kernelspec": {
      "name": "python3",
      "display_name": "Python 3"
    },
    "language_info": {
      "name": "python"
    }
  },
  "cells": [
    {
      "cell_type": "markdown",
      "source": [
        "Exercise 1: Variables☑️\n",
        "\n",
        "Type out the code below and add the correct data types to complete the variables\n",
        "\n",
        "Assign a message to a variable, and print that message. Then change the value of the variable to a new message, and print the new message."
      ],
      "metadata": {
        "id": "kA_InrU_56Cf"
      }
    },
    {
      "cell_type": "code",
      "source": [
        "a = \"hello\"\n",
        "print(a)\n",
        "a = \"everyone\"\n",
        "print(a)"
      ],
      "metadata": {
        "colab": {
          "base_uri": "https://localhost:8080/"
        },
        "id": "8prsSRkOMTI6",
        "outputId": "fa785c29-04fb-4c9b-a456-fa4d7036113a"
      },
      "execution_count": 28,
      "outputs": [
        {
          "output_type": "stream",
          "name": "stdout",
          "text": [
            "Enter radius(cm): 10\n",
            "\n",
            "The area of a circle with a radius of 10 is 98.70cm^2\n"
          ]
        }
      ]
    }
  ]
}
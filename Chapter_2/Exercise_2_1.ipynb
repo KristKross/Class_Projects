{
  "nbformat": 4,
  "nbformat_minor": 0,
  "metadata": {
    "colab": {
      "provenance": [],
      "authorship_tag": "ABX9TyNHPxBPQAY/Lg4nPvJKbGK5"
    },
    "kernelspec": {
      "name": "python3",
      "display_name": "Python 3"
    },
    "language_info": {
      "name": "python"
    }
  },
  "cells": [
    {
      "cell_type": "markdown",
      "source": [
        "Exercise 1: Variables☑️\n",
        "\n",
        "Type out the code below and add the correct data types to complete the variables\n",
        "\n",
        "Assign a message to a variable, and print that message. Then change the value of the variable to a new message, and print the new message."
      ],
      "metadata": {
        "id": "KmWyYi91GBVH"
      }
    },
    {
      "cell_type": "code",
      "execution_count": 4,
      "metadata": {
        "colab": {
          "base_uri": "https://localhost:8080/"
        },
        "id": "solXaZLbnbt2",
        "outputId": "66594324-0fc0-45b0-b5ef-9f3b1f376669"
      },
      "outputs": [
        {
          "output_type": "stream",
          "name": "stdout",
          "text": [
            "hello\n",
            "everyone\n"
          ]
        }
      ],
      "source": [
        "# defining a variable then printing it.\n",
        "a = \"hello\"\n",
        "print(a)\n",
        "# defining the same variable name then printing it again.\n",
        "a = \"everyone\"\n",
        "print(a)"
      ]
    }
  ]
}
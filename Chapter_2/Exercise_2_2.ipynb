{
  "nbformat": 4,
  "nbformat_minor": 0,
  "metadata": {
    "colab": {
      "provenance": [],
      "authorship_tag": "ABX9TyOvjaDRPzS/TpjWedI8dFLd"
    },
    "kernelspec": {
      "name": "python3",
      "display_name": "Python 3"
    },
    "language_info": {
      "name": "python"
    }
  },
  "cells": [
    {
      "cell_type": "markdown",
      "source": [
        "Exercise 2: Variables ☑️\n",
        "\n",
        "Find a quote from a famous person you admire. Print the quote and the name of its author.\n",
        "\n",
        "Your output should look something like the following, including the quotation marks:\n",
        "\n",
        "Albert Einstein once said, “A person who never made a mistake never tried anything new."
      ],
      "metadata": {
        "id": "KmWyYi91GBVH"
      }
    },
    {
      "cell_type": "code",
      "execution_count": null,
      "metadata": {
        "colab": {
          "base_uri": "https://localhost:8080/"
        },
        "id": "solXaZLbnbt2",
        "outputId": "b0ed27d4-79eb-49af-d442-db4d1d89ae63"
      },
      "outputs": [
        {
          "metadata": {
            "tags": null
          },
          "name": "stdout",
          "output_type": "stream",
          "text": [
            "\n"
          ]
        }
      ],
      "source": [
        "print(\"\\\"A person who never made a mistake never tried anything new.\\\" - \\\n",
        "Albert Einstein\")"
      ]
    }
  ]
}
{
  "nbformat": 4,
  "nbformat_minor": 0,
  "metadata": {
    "colab": {
      "provenance": [],
      "authorship_tag": "ABX9TyO4Mg9Ox1Ie+UfGeJ4Kiz74"
    },
    "kernelspec": {
      "name": "python3",
      "display_name": "Python 3"
    },
    "language_info": {
      "name": "python"
    }
  },
  "cells": [
    {
      "cell_type": "code",
      "source": [
        "print(\"\\\"A person who never made a mistake never tried anything new.\\\" - \\\n",
        "Albert Einstein\")"
      ],
      "metadata": {
        "colab": {
          "base_uri": "https://localhost:8080/"
        },
        "id": "8prsSRkOMTI6",
        "outputId": "251d48e8-1a83-4c0d-ec6e-54443d5d3da2"
      },
      "execution_count": 6,
      "outputs": [
        {
          "output_type": "stream",
          "name": "stdout",
          "text": [
            "\"A person who never made a mistake never tried anything new.\" - Albert Einstein\n"
          ]
        }
      ]
    }
  ]
}
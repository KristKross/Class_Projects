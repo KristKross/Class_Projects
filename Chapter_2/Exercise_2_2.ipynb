{
  "nbformat": 4,
  "nbformat_minor": 0,
  "metadata": {
    "colab": {
      "provenance": [],
      "authorship_tag": "ABX9TyNrGDJmdd70cPpZkKmv2Jab"
    },
    "kernelspec": {
      "name": "python3",
      "display_name": "Python 3"
    },
    "language_info": {
      "name": "python"
    }
  },
  "cells": [
    {
      "cell_type": "markdown",
      "source": [
        "Exercise 2: Variables ☑️\n",
        "\n",
        "Find a quote from a famous person you admire. Print the quote and the name of its author.\n",
        "\n",
        "Your output should look something like the following, including the quotation marks:\n",
        "\n",
        "Albert Einstein once said, “A person who never made a mistake never tried anything new."
      ],
      "metadata": {
        "id": "KmWyYi91GBVH"
      }
    },
    {
      "cell_type": "code",
      "execution_count": 3,
      "metadata": {
        "colab": {
          "base_uri": "https://localhost:8080/"
        },
        "id": "solXaZLbnbt2",
        "outputId": "76bca553-9c86-492b-b74e-b605a69557ec"
      },
      "outputs": [
        {
          "output_type": "stream",
          "name": "stdout",
          "text": [
            "\"A person who never made a mistake never tried anything new.\" - Albert Einstein\n"
          ]
        }
      ],
      "source": [
        "# using a backslash to print the quotation marks.\n",
        "print(\"\\\"A person who never made a mistake never tried anything new.\\\" - \\\n",
        "Albert Einstein\")"
      ]
    }
  ]
}
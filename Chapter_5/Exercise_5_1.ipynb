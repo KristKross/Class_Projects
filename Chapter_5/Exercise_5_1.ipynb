{
  "nbformat": 4,
  "nbformat_minor": 0,
  "metadata": {
    "colab": {
      "provenance": [],
      "authorship_tag": "ABX9TyMhLmKtAkXIvz7V3zoRkT18"
    },
    "kernelspec": {
      "name": "python3",
      "display_name": "Python 3"
    },
    "language_info": {
      "name": "python"
    }
  },
  "cells": [
    {
      "cell_type": "markdown",
      "source": [
        "Exercise 3: Alien Colors #3 ☑️\n",
        "Turn your if-else chain from Exercise 5-4 into an if-elifelse chain.\n",
        "\n",
        "• If the alien is green, print a message that the player earned 5 points.\n",
        "\n",
        "• If the alien is yellow, print a message that the player earned 10 points.\n",
        "\n",
        "• If the alien is red, print a message that the player earned 15 points.\n",
        "\n",
        "• Write three versions of this program, making sure each message is printed for the appropriate color alien."
      ],
      "metadata": {
        "id": "KmWyYi91GBVH"
      }
    },
    {
      "cell_type": "code",
      "execution_count": 29,
      "metadata": {
        "colab": {
          "base_uri": "https://localhost:8080/"
        },
        "id": "solXaZLbnbt2",
        "outputId": "eae637f8-f4c2-4548-e44e-107083ab4917"
      },
      "outputs": [
        {
          "output_type": "stream",
          "name": "stdout",
          "text": [
            "You earned 5 points.\n",
            "You earned 10 points.\n",
            "You earned 15 points.\n"
          ]
        }
      ],
      "source": [
        "# using a dictionary to store multiple values.\n",
        "person = {\n",
        "    \"first_name\": \"Kristian\",\n",
        "    \"last_name\": \"Demonteverde\",\n",
        "    \"age\": 18,\n",
        "    \"city\": \"Dubai\"\n",
        "}\n",
        "\n",
        "# printing the keys and values of the dictionary.\n",
        "print(\"first name: \" + person[\"first_name\"])\n",
        "print(\"last name: \" + person[\"last_name\"])\n",
        "print(\"age: \" + str(person[\"age\"]))\n",
        "print(\"city: \" + person[\"city\"])"
      ]
    }
  ]
}
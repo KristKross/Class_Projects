{
  "nbformat": 4,
  "nbformat_minor": 0,
  "metadata": {
    "colab": {
      "provenance": [],
      "authorship_tag": "ABX9TyM8nys8ItH2aL0gi7Qrb8L9"
    },
    "kernelspec": {
      "name": "python3",
      "display_name": "Python 3"
    },
    "language_info": {
      "name": "python"
    }
  },
  "cells": [
    {
      "cell_type": "code",
      "execution_count": 17,
      "metadata": {
        "colab": {
          "base_uri": "https://localhost:8080/"
        },
        "id": "oG-l6PZJ_9Qx",
        "outputId": "5b916fbe-9e3f-4922-d94c-ee02c0e98e5b"
      },
      "outputs": [
        {
          "output_type": "stream",
          "name": "stdout",
          "text": [
            "{'first_name': 'Kristian', 'last_name': 'Demonteverde', 'age': 18, 'city': 'Dubai'}\n"
          ]
        }
      ],
      "source": [
        "person = {\n",
        "    \"first_name\": \"Kristian\",\n",
        "    \"last_name\": \"Demonteverde\",\n",
        "    \"age\": 18,\n",
        "    \"city\": \"Dubai\"\n",
        "}\n",
        "print(person)"
      ]
    }
  ]
}
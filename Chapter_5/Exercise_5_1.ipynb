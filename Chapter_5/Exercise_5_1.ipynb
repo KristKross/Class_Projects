{
  "nbformat": 4,
  "nbformat_minor": 0,
  "metadata": {
    "colab": {
      "provenance": [],
      "authorship_tag": "ABX9TyPuePNKAVyJTYtABCPoZffI"
    },
    "kernelspec": {
      "name": "python3",
      "display_name": "Python 3"
    },
    "language_info": {
      "name": "python"
    }
  },
  "cells": [
    {
      "cell_type": "markdown",
      "source": [
        "Exercise 1: Person ☑️\n",
        "\n",
        "Use a dictionary to store information about a person you know.Store their first name, last name, age, and the city in which they live. You should have keys such as first_name, last_name, age, and city. Print each piece of information stored in your dictionary.\n"
      ],
      "metadata": {
        "id": "kA_InrU_56Cf"
      }
    },
    {
      "cell_type": "code",
      "source": [
        "person = {\n",
        "    \"first_name\": \"Kristian\",\n",
        "    \"last_name\": \"Demonteverde\",\n",
        "    \"age\": 18,\n",
        "    \"city\": \"Dubai\"\n",
        "}\n",
        "\n",
        "print(\"first name: \" + person[\"first_name\"])\n",
        "print(\"last name: \" + person[\"last_name\"])\n",
        "print(\"age: \" + str(person[\"age\"]))\n",
        "print(\"city: \" + person[\"city\"])"
      ],
      "metadata": {
        "colab": {
          "base_uri": "https://localhost:8080/"
        },
        "id": "8prsSRkOMTI6",
        "outputId": "e00ed34e-9281-49ef-8068-6ab0d9b9f178"
      },
      "execution_count": 14,
      "outputs": [
        {
          "output_type": "stream",
          "name": "stdout",
          "text": [
            "first name: Kristian\n",
            "last name: Demonteverde\n",
            "age: 18\n",
            "city: Dubai\n"
          ]
        }
      ]
    }
  ]
}
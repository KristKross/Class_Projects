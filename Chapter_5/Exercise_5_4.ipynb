{
  "nbformat": 4,
  "nbformat_minor": 0,
  "metadata": {
    "colab": {
      "provenance": [],
      "authorship_tag": "ABX9TyMncO9922+6p9WXKqluRLMo"
    },
    "kernelspec": {
      "name": "python3",
      "display_name": "Python 3"
    },
    "language_info": {
      "name": "python"
    }
  },
  "cells": [
    {
      "cell_type": "markdown",
      "source": [
        "Exercise 4: Rivers ☑️\n",
        "\n",
        "Make a dictionary containing three major rivers and the country each river runs through. One key-value pair might be 'nile': 'egypt'.\n",
        "\n",
        "Use a loop to print a sentence about each river, such as The Nile runs through Egypt.\n",
        "\n",
        "Use a loop to print the name of each river included in the dictionary.\n",
        "\n",
        "Use a loop to print the name of each country included in the dictionary."
      ],
      "metadata": {
        "id": "kA_InrU_56Cf"
      }
    },
    {
      "cell_type": "code",
      "source": [
        "rivers = {\n",
        "    \"Egypt\": \"The Nile\",\n",
        "    \"North America\": \"The Mississippi\",\n",
        "    \"South America\": \"The Amazon\",\n",
        "    \"China\": \"The Yangtze\",\n",
        "    \"India\": \"The Ganges\"\n",
        "}\n",
        "\n",
        "print(\"Statements:\")\n",
        "for keys, values in rivers.items():\n",
        "  print(\"- \" + values + \" runs through \" + keys)\n",
        "\n",
        "print(\"\\nContinents/Countries:\")\n",
        "for keys in rivers.keys():\n",
        "  print(\"- \" + keys)\n",
        "\n",
        "print(\"\\nRivers:\")\n",
        "for values in rivers.values():\n",
        "    print(\"- \" + values)"
      ],
      "metadata": {
        "colab": {
          "base_uri": "https://localhost:8080/"
        },
        "id": "8prsSRkOMTI6",
        "outputId": "50720ccf-b74a-4c00-f938-410fa93e21c6"
      },
      "execution_count": 87,
      "outputs": [
        {
          "output_type": "stream",
          "name": "stdout",
          "text": [
            "Statements:\n",
            "- The Nile runs through Egypt\n",
            "- The Mississippi runs through North America\n",
            "- The Amazon runs through South America\n",
            "- The Yangtze runs through China\n",
            "- The Ganges runs through India\n",
            "\n",
            "Continents/Countries:\n",
            "- Egypt\n",
            "- North America\n",
            "- South America\n",
            "- China\n",
            "- India\n",
            "\n",
            "Rivers:\n",
            "- The Nile\n",
            "- The Mississippi\n",
            "- The Amazon\n",
            "- The Yangtze\n",
            "- The Ganges\n"
          ]
        }
      ]
    }
  ]
}
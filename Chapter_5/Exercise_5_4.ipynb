{
  "nbformat": 4,
  "nbformat_minor": 0,
  "metadata": {
    "colab": {
      "provenance": [],
      "authorship_tag": "ABX9TyOwcawO6AHRCZrq0bNFLSAF",
      "include_colab_link": true
    },
    "kernelspec": {
      "name": "python3",
      "display_name": "Python 3"
    },
    "language_info": {
      "name": "python"
    }
  },
  "cells": [
    {
      "cell_type": "markdown",
      "metadata": {
        "id": "view-in-github",
        "colab_type": "text"
      },
      "source": [
        "<a href=\"https://colab.research.google.com/github/KristKross/Kristian_Code_Lab_1/blob/main/Chapter_5/Exercise_5_4.ipynb\" target=\"_parent\"><img src=\"https://colab.research.google.com/assets/colab-badge.svg\" alt=\"Open In Colab\"/></a>"
      ]
    },
    {
      "cell_type": "code",
      "execution_count": 30,
      "metadata": {
        "colab": {
          "base_uri": "https://localhost:8080/"
        },
        "id": "oG-l6PZJ_9Qx",
        "outputId": "89e42ae9-8233-4ae9-c12e-64b397e40dba"
      },
      "outputs": [
        {
          "output_type": "stream",
          "name": "stdout",
          "text": [
            "Enter the category Statements, Rivers or Countries: statements\n",
            "\n",
            "\n",
            "Statements about each river:\n",
            "Egypt runs through The Nile\n",
            "North America runs through The Mississippi\n",
            "South America runs through The Amazon\n",
            "China runs through The Yangtze\n",
            "India runs through The Ganges\n"
          ]
        }
      ],
      "source": [
        "rivers = {\n",
        "    \"Egypt\": \"The Nile\",\n",
        "    \"North America\": \"The Mississippi\",\n",
        "    \"South America\": \"The Amazon\",\n",
        "    \"China\": \"The Yangtze\",\n",
        "    \"India\": \"The Ganges\"\n",
        "}\n",
        "\n",
        "function = False\n",
        "\n",
        "while function == False:\n",
        "  \n",
        "  category = input(\"Enter the category Statements, Rivers or Countries: \")\n",
        "  print(\"\\n\")\n",
        "\n",
        "  if category.lower() == \"statements\":\n",
        "    function = True\n",
        "    print(\"Statements about each river:\")\n",
        "    for x, y in rivers.items():\n",
        "      print(x, \"runs through\", y)\n",
        "\n",
        "  elif category.lower() == \"statements\":\n",
        "    function = True\n",
        "    print(\"Countries:\")\n",
        "    for x in rivers.keys():\n",
        "      print(x)\n",
        "\n",
        "  elif category.lower() == \"statements\":\n",
        "    function = True\n",
        "    print(\"Rivers:\")\n",
        "    for y in rivers.values():\n",
        "      print(y)\n",
        "\n",
        "  else:\n",
        "    print(\"Invalid input. Try again.\")"
      ]
    }
  ]
}
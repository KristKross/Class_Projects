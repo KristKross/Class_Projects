{
  "nbformat": 4,
  "nbformat_minor": 0,
  "metadata": {
    "colab": {
      "provenance": [],
      "authorship_tag": "ABX9TyMfwJ3ctUDIY0dEoF04aLsX",
      "include_colab_link": true
    },
    "kernelspec": {
      "name": "python3",
      "display_name": "Python 3"
    },
    "language_info": {
      "name": "python"
    }
  },
  "cells": [
    {
      "cell_type": "markdown",
      "metadata": {
        "id": "view-in-github",
        "colab_type": "text"
      },
      "source": [
        "<a href=\"https://colab.research.google.com/github/KristKross/Kristian_Code_Lab_1/blob/main/Chapter_5/Exercise_5_4.ipynb\" target=\"_parent\"><img src=\"https://colab.research.google.com/assets/colab-badge.svg\" alt=\"Open In Colab\"/></a>"
      ]
    },
    {
      "cell_type": "code",
      "execution_count": 34,
      "metadata": {
        "colab": {
          "base_uri": "https://localhost:8080/"
        },
        "id": "oG-l6PZJ_9Qx",
        "outputId": "1d0be051-cd8b-436a-ea85-9f7d4e98d2d2"
      },
      "outputs": [
        {
          "output_type": "stream",
          "name": "stdout",
          "text": [
            "Enter the category Statements, Rivers or Countries: statements\n",
            "\n",
            "\n",
            "Statements about each river:\n",
            "The Nile runs through Egypt\n",
            "The Mississippi runs through North America\n",
            "The Amazon runs through South America\n",
            "The Yangtze runs through China\n",
            "The Ganges runs through India\n"
          ]
        }
      ],
      "source": [
        "rivers = {\n",
        "    \"Egypt\": \"The Nile\",\n",
        "    \"North America\": \"The Mississippi\",\n",
        "    \"South America\": \"The Amazon\",\n",
        "    \"China\": \"The Yangtze\",\n",
        "    \"India\": \"The Ganges\"\n",
        "}\n",
        "\n",
        "function = False\n",
        "\n",
        "while function == False:\n",
        "\n",
        "  category = input(\"Enter the category Statements, Rivers or Countries: \")\n",
        "  print(\"\\n\")\n",
        "\n",
        "  if category.lower() == \"statements\":\n",
        "    function = True\n",
        "    print(\"Statements about each river:\")\n",
        "    for x, y in rivers.items():\n",
        "      print(y, \"runs through\", x)\n",
        "\n",
        "  elif category.lower() == \"countries\":\n",
        "    function = True\n",
        "    print(\"Countries:\")\n",
        "    for y in rivers.keys():\n",
        "      print(y)\n",
        "\n",
        "  elif category.lower() == \"rivers\":\n",
        "    function = True\n",
        "    print(\"Rivers:\")\n",
        "    for x in rivers.values():\n",
        "      print(x)\n",
        "\n",
        "  else:\n",
        "    print(\"Invalid input. Try again.\")"
      ]
    }
  ]
}
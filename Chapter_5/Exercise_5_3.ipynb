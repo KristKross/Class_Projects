{
  "nbformat": 4,
  "nbformat_minor": 0,
  "metadata": {
    "colab": {
      "provenance": [],
      "authorship_tag": "ABX9TyOcNQZzeVSYXDqjBYFvZLGz"
    },
    "kernelspec": {
      "name": "python3",
      "display_name": "Python 3"
    },
    "language_info": {
      "name": "python"
    }
  },
  "cells": [
    {
      "cell_type": "markdown",
      "source": [
        "Exercise 3: Glossary 2 ☑️\n",
        "\n",
        "Now that you know how to loop through a dictionary, clean up the code from Exercise 6-3 (page 99) by replacing your series of print()\n",
        "\n",
        "calls with a loop that runs through the dictionary’s keys and values. When you’re sure that your loop works, add five more Python terms\n",
        "\n",
        "to your glossary.When you run your program again, these new words and meanings should automatically be included in the output.\n",
        "\n",
        "\n",
        "\n",
        "\n",
        "\n",
        "\n",
        "\n"
      ],
      "metadata": {
        "id": "KmWyYi91GBVH"
      }
    },
    {
      "cell_type": "code",
      "execution_count": 7,
      "metadata": {
        "colab": {
          "base_uri": "https://localhost:8080/"
        },
        "id": "solXaZLbnbt2",
        "outputId": "84114c39-e001-4ec6-b2b0-77ad64a7b41c"
      },
      "outputs": [
        {
          "output_type": "stream",
          "name": "stdout",
          "text": [
            "\n",
            "if statement: if a condition is met the code will run.\n",
            "\n",
            "integer: contains whole numeric values.\n",
            "\n",
            "string: contains characters.\n",
            "\n",
            "variable: stores a data type.\n",
            "\n",
            "list: stores multiple data types.\n",
            "\n",
            "key: the first item in a dictionary.\n",
            "\n",
            "value: the associated item that is given in a key.\n",
            "\n",
            "loop: a condition that can cycle in a given code.\n",
            "\n",
            "dictionary: stores data of unique keys and values.\n",
            "\n",
            "def: a keyword that is used to create user made functions.\n"
          ]
        }
      ],
      "source": [
        "# using a dictionary to store more python terms and its meaning.\n",
        "glossary = {\n",
        "    \"if statement\":\"if a condition is met the code will run.\",\n",
        "    \"integer\":\"contains whole numeric values.\",\n",
        "    \"string\":\"contains characters.\",\n",
        "    \"variable\":\"stores a data type.\",\n",
        "    \"list\":\"stores multiple data types.\",\n",
        "    \"key\":\"the first item in a dictionary.\",\n",
        "    \"value\":\"the associated item that is given in a key.\",\n",
        "    \"loop\":\"a condition that can cycle in a given code.\",\n",
        "    \"dictionary\":\"stores data of unique keys and values.\",\n",
        "    \"def\":\"a keyword that is used to create user made functions.\"     \n",
        "}\n",
        "\n",
        "# using a \"for\" loop to print all the elements in the dictionary.\n",
        "for keys, values in glossary.items():\n",
        "  print(\"\\n\" + str(keys) + \": \" + str(values))"
      ]
    }
  ]
}
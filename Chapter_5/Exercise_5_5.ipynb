{
  "nbformat": 4,
  "nbformat_minor": 0,
  "metadata": {
    "colab": {
      "provenance": [],
      "authorship_tag": "ABX9TyNlJ2f6Q/ZnbhceOXrgVaIY"
    },
    "kernelspec": {
      "name": "python3",
      "display_name": "Python 3"
    },
    "language_info": {
      "name": "python"
    }
  },
  "cells": [
    {
      "cell_type": "markdown",
      "source": [
        "Exercise 5: Pets ☑️\n",
        "\n",
        "Make several dictionaries, where each dictionary represents a different pet. In each dictionary, include the kind of animal and the owner’s name. Store these dictionaries in a list called pets. Next, loop through your list and as you do, print everything you know about each pet."
      ],
      "metadata": {
        "id": "kA_InrU_56Cf"
      }
    },
    {
      "cell_type": "code",
      "source": [
        "pets = []\n",
        "\n",
        "pet = {\"pet\":\"hamster\",\n",
        "       \"owner\":\"Kevin\"\n",
        "}\n",
        "\n",
        "pets.append(pet)\n",
        "\n",
        "pet = {\"pet\":\"turtle\",\n",
        "       \"owner\":\"Mary\"\n",
        "}\n",
        "\n",
        "pets.append(pet)\n",
        "\n",
        "pet = {\"pet\":\"parrot\",\n",
        "       \"owner\":\"Calvin\"\n",
        "}\n",
        "\n",
        "pets.append(pet)\n",
        "\n",
        "for pet in pets:\n",
        "  print(\"\\nInformation about \" + pet[\"owner\"] + \"'s pet:\")\n",
        "  for key, values in pet.items():\n",
        "    print(str(key) + \" : \" + str(values))"
      ],
      "metadata": {
        "colab": {
          "base_uri": "https://localhost:8080/"
        },
        "id": "8prsSRkOMTI6",
        "outputId": "ddcb478b-809a-4b06-9fc0-96d3b0554ab4"
      },
      "execution_count": 66,
      "outputs": [
        {
          "output_type": "stream",
          "name": "stdout",
          "text": [
            "\n",
            "Information about Kevin's pet:\n",
            "pet : hamster\n",
            "owner : Kevin\n",
            "\n",
            "Information about Mary's pet:\n",
            "pet : turtle\n",
            "owner : Mary\n",
            "\n",
            "Information about Calvin's pet:\n",
            "pet : parrot\n",
            "owner : Calvin\n"
          ]
        }
      ]
    }
  ]
}
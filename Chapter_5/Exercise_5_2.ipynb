{
  "nbformat": 4,
  "nbformat_minor": 0,
  "metadata": {
    "colab": {
      "provenance": [],
      "authorship_tag": "ABX9TyP/fFvJAQCqnDTwVjhs74G9"
    },
    "kernelspec": {
      "name": "python3",
      "display_name": "Python 3"
    },
    "language_info": {
      "name": "python"
    }
  },
  "cells": [
    {
      "cell_type": "code",
      "execution_count": 30,
      "metadata": {
        "colab": {
          "base_uri": "https://localhost:8080/"
        },
        "id": "oG-l6PZJ_9Qx",
        "outputId": "99e804a8-5742-460d-f369-d2015aff87d7"
      },
      "outputs": [
        {
          "output_type": "stream",
          "name": "stdout",
          "text": [
            "{'if_statement': 'if condition is met the code will run.', 'else_statement': 'if condition is not met it will run this code \\n instead.', 'variable': 'stores any data type.', 'function': 'performs a specific task depending on function.', 'list': 'a data type that stores multiple variables.'}\n"
          ]
        }
      ],
      "source": [
        "glossary = {\n",
        "    \"if_statement\": \"if condition is met the code will run.\",\n",
        "    \"else_statement\": \"if condition is not met it will run this code instead.\",\n",
        "    \"variable\": \"stores any data type.\",\n",
        "    \"function\": \"performs a specific task depending on function.\",\n",
        "    \"list\": \"a data type that stores multiple variables.\"\n",
        "}\n",
        "print(glossary)"
      ]
    }
  ]
}
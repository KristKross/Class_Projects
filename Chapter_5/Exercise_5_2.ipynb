{
  "nbformat": 4,
  "nbformat_minor": 0,
  "metadata": {
    "colab": {
      "provenance": [],
      "authorship_tag": "ABX9TyNR/q/Imr8blv+JCtwYH27V",
      "include_colab_link": true
    },
    "kernelspec": {
      "name": "python3",
      "display_name": "Python 3"
    },
    "language_info": {
      "name": "python"
    }
  },
  "cells": [
    {
      "cell_type": "markdown",
      "metadata": {
        "id": "view-in-github",
        "colab_type": "text"
      },
      "source": [
        "<a href=\"https://colab.research.google.com/github/KristKross/Kristian_Code_Lab_1/blob/main/Chapter_5/Exercise_5_2.ipynb\" target=\"_parent\"><img src=\"https://colab.research.google.com/assets/colab-badge.svg\" alt=\"Open In Colab\"/></a>"
      ]
    },
    {
      "cell_type": "code",
      "execution_count": 2,
      "metadata": {
        "colab": {
          "base_uri": "https://localhost:8080/"
        },
        "id": "oG-l6PZJ_9Qx",
        "outputId": "e85812f9-f949-486e-ebc9-0393703b16b4"
      },
      "outputs": [
        {
          "output_type": "stream",
          "name": "stdout",
          "text": [
            "if statement:\n",
            "if condition is met the code will run.\n",
            "\n",
            "else statement:\n",
            "if condition is not met it will run this code instead.\n",
            "\n",
            "variable:\n",
            "stores any data type.\n",
            "\n",
            "function:\n",
            "performs a specific task depending on function.\n",
            "\n",
            "list:\n",
            "a data type that stores multiple variables.\n"
          ]
        }
      ],
      "source": [
        "glossary = {\n",
        "    \"if_statement\": \"if condition is met the code will run.\",\n",
        "    \"else_statement\": \"if condition is not met it will run this code instead.\",\n",
        "    \"variable\": \"stores any data type.\",\n",
        "    \"function\": \"performs a specific task depending on function.\",\n",
        "    \"list\": \"a data type that stores multiple variables.\"\n",
        "}\n",
        "\n",
        "print(\"if statement:\\n\" + glossary[\"if_statement\"] + \"\\n\")\n",
        "print(\"else statement:\\n\" + glossary[\"else_statement\"] + \"\\n\")\n",
        "print(\"variable:\\n\" + glossary[\"variable\"] + \"\\n\")\n",
        "print(\"function:\\n\" + glossary[\"function\"] + \"\\n\")\n",
        "print(\"list:\\n\" + glossary[\"list\"])"
      ]
    }
  ]
}
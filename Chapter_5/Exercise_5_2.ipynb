{
  "nbformat": 4,
  "nbformat_minor": 0,
  "metadata": {
    "colab": {
      "provenance": [],
      "authorship_tag": "ABX9TyNGHcnn8mh05+h70nd6Ilyi"
    },
    "kernelspec": {
      "name": "python3",
      "display_name": "Python 3"
    },
    "language_info": {
      "name": "python"
    }
  },
  "cells": [
    {
      "cell_type": "markdown",
      "source": [
        "Exercise 2: Glossary ☑️\n",
        "\n",
        "A Python dictionary can be used to model an actual dictionary. However, to avoid confusion, let’s call it a glossary.\n",
        "\n",
        "Think of five programming words you’ve learned about in the previous chapters. Use these words as the keys in your glossary, and store\n",
        "their meanings as values.\n",
        "\n",
        "Print each word and its meaning as neatly formatted output. You might print the word followed by a colon and then its meaning, or print\n",
        "the word on one line and then print its meaning indented on a second line. Use the newline character (\\n) to insert a blank line between\n",
        "\n",
        "each word-meaning pair in your output.    "
      ],
      "metadata": {
        "id": "kA_InrU_56Cf"
      }
    },
    {
      "cell_type": "code",
      "source": [
        "glossary = {\n",
        "    \"if_statement\": \"if condition is met the code will run.\",\n",
        "    \"else_statement\": \"if condition is not met it will run this code instead.\",\n",
        "    \"variable\": \"stores any data type.\",\n",
        "    \"function\": \"performs a specific task depending on function.\",\n",
        "    \"list\": \"a data type that stores multiple variables.\"\n",
        "}\n",
        "\n",
        "print(\"if statement   :  \" + glossary[\"if_statement\"] + \"\\n\")\n",
        "print(\"else statement :  \" + glossary[\"else_statement\"] + \"\\n\")\n",
        "print(\"variable       :  \" + glossary[\"variable\"] + \"\\n\")\n",
        "print(\"function       :  \" + glossary[\"function\"] + \"\\n\")\n",
        "print(\"list           :  \" + glossary[\"list\"])"
      ],
      "metadata": {
        "colab": {
          "base_uri": "https://localhost:8080/"
        },
        "id": "8prsSRkOMTI6",
        "outputId": "62a473bb-d387-4fb7-8e0a-41484119bf73"
      },
      "execution_count": 24,
      "outputs": [
        {
          "output_type": "stream",
          "name": "stdout",
          "text": [
            "if statement   :  if condition is met the code will run.\n",
            "\n",
            "else statement :  if condition is not met it will run this code instead.\n",
            "\n",
            "variable       :  stores any data type.\n",
            "\n",
            "function       :  performs a specific task depending on function.\n",
            "\n",
            "list           :  a data type that stores multiple variables.\n"
          ]
        }
      ]
    }
  ]
}
{
  "nbformat": 4,
  "nbformat_minor": 0,
  "metadata": {
    "colab": {
      "provenance": [],
      "authorship_tag": "ABX9TyNopeQwrTmecBYwJ4FpkdIf",
      "include_colab_link": true
    },
    "kernelspec": {
      "name": "python3",
      "display_name": "Python 3"
    },
    "language_info": {
      "name": "python"
    }
  },
  "cells": [
    {
      "cell_type": "markdown",
      "metadata": {
        "id": "view-in-github",
        "colab_type": "text"
      },
      "source": [
        "<a href=\"https://colab.research.google.com/github/KristKross/Kristian_Code_Lab_1/blob/main/Chapter_5/Exercise_5_2.ipynb\" target=\"_parent\"><img src=\"https://colab.research.google.com/assets/colab-badge.svg\" alt=\"Open In Colab\"/></a>"
      ]
    },
    {
      "cell_type": "code",
      "execution_count": 26,
      "metadata": {
        "colab": {
          "base_uri": "https://localhost:8080/"
        },
        "id": "oG-l6PZJ_9Qx",
        "outputId": "557fec1c-1bd6-485a-ec94-2a28d388c102"
      },
      "outputs": [
        {
          "output_type": "stream",
          "name": "stdout",
          "text": [
            "{'if_statement': 'if condition is met the code will run.', 'else_statement': 'if condition is not met it will run this code instead.', 'variable': 'stores any data type.', 'function': 'performs a specific task depending on function.', 'list': 'a data type that stores multiple variables.'}\n"
          ]
        }
      ],
      "source": [
        "glossary = {\n",
        "    \"if_statement\": \"if condition is met the code will run.\",\n",
        "    \"else_statement\": \"if condition is not met it will run this code \\\n",
        "instead.\",\n",
        "    \"variable\": \"stores any data type.\",\n",
        "    \"function\": \"performs a specific task depending on function.\",\n",
        "    \"list\": \"a data type that stores multiple variables.\"\n",
        "}\n",
        "print(glossary)"
      ]
    }
  ]
}
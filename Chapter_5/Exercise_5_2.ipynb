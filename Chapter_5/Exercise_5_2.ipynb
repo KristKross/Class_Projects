{
  "nbformat": 4,
  "nbformat_minor": 0,
  "metadata": {
    "colab": {
      "provenance": [],
      "authorship_tag": "ABX9TyOsqpo/0canSZzkP/wLADA+"
    },
    "kernelspec": {
      "name": "python3",
      "display_name": "Python 3"
    },
    "language_info": {
      "name": "python"
    }
  },
  "cells": [
    {
      "cell_type": "markdown",
      "source": [
        "Exercise 2: Glossary ☑️\n",
        "\n",
        "A Python dictionary can be used to model an actual dictionary. However, to avoid confusion, let’s call it a glossary.\n",
        "\n",
        "Think of five programming words you’ve learned about in the previous chapters. Use these words as the keys in your glossary, and store their meanings as values.\n",
        "\n",
        "Print each word and its meaning as neatly formatted output. You might print the word followed by a colon and then its meaning, or print the word on one line and then print its meaning indented on a second line. Use the newline character (\\n) to insert a blank line between\n",
        "\n",
        "each word-meaning pair in your output."
      ],
      "metadata": {
        "id": "kA_InrU_56Cf"
      }
    },
    {
      "cell_type": "code",
      "source": [
        "glossary = {\n",
        "    \"if statement\":\"if a condition is met the code will run.\",\n",
        "    \"integer\":\"contains whole numeric values.\",\n",
        "    \"string\":\"contains characters.\",\n",
        "    \"variable\":\"stores a data type.\",\n",
        "    \"list\":\"stores multiple data types.\",\n",
        "}\n",
        "\n",
        "print(\"if statement:  \" + glossary[\"if statement\"] + \"\\n\")\n",
        "print(\"integer:  \" + glossary[\"integer\"] + \"\\n\")\n",
        "print(\"string: \" + glossary[\"string\"] + \"\\n\")\n",
        "print(\"variable:  \" + glossary[\"variable\"] + \"\\n\")\n",
        "print(\"list:  \" + glossary[\"list\"])"
      ],
      "metadata": {
        "colab": {
          "base_uri": "https://localhost:8080/"
        },
        "id": "8prsSRkOMTI6",
        "outputId": "3445c24a-9c95-4c18-8b20-aef1d2a2d72d"
      },
      "execution_count": 91,
      "outputs": [
        {
          "output_type": "stream",
          "name": "stdout",
          "text": [
            "if statement:  if a condition is met the code will run.\n",
            "\n",
            "integer:  contains whole numeric values.\n",
            "\n",
            "string: contains characters.\n",
            "\n",
            "variable:  stores a data type.\n",
            "\n",
            "list:  stores multiple data types.\n"
          ]
        }
      ]
    }
  ]
}
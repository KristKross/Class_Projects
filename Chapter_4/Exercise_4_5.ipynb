{
  "nbformat": 4,
  "nbformat_minor": 0,
  "metadata": {
    "colab": {
      "provenance": [],
      "authorship_tag": "ABX9TyMb0/mhac90yfbFXecSFfR0"
    },
    "kernelspec": {
      "name": "python3",
      "display_name": "Python 3"
    },
    "language_info": {
      "name": "python"
    }
  },
  "cells": [
    {
      "cell_type": "markdown",
      "source": [
        "Exercise 5: Favorite Fruit ☑️\n",
        "\n",
        "Make a list of your favorite fruits, and then write a series of independent if statements that check for certain fruits in your list.\n",
        "\n",
        "•Make a list of your three favorite fruits and call it favorite_fruits.\n",
        "\n",
        "•Write five if statements. Each should check whether a certain kind of fruit is in your list. If the fruit is in your list, the if block\n",
        "\n",
        "should print a statement,such as You really like bananas!"
      ],
      "metadata": {
        "id": "KmWyYi91GBVH"
      }
    },
    {
      "cell_type": "code",
      "execution_count": null,
      "metadata": {
        "colab": {
          "base_uri": "https://localhost:8080/"
        },
        "id": "solXaZLbnbt2",
        "outputId": "eae637f8-f4c2-4548-e44e-107083ab4917"
      },
      "outputs": [
        {
          "output_type": "stream",
          "name": "stdout",
          "text": [
            "You earned 5 points.\n",
            "You earned 10 points.\n",
            "You earned 15 points.\n"
          ]
        }
      ],
      "source": [
        "# defining a list that contains strings.\n",
        "favourite_fruits = [\"Apple\", \"Orange\", \"Strawberry\"]\n",
        "\n",
        "\n",
        "# using the \"in\" operator to check if a given element is in the list.\n",
        "if \"Apple\" in favourite_fruits:\n",
        "  print(\"I like apples!\")\n",
        "\n",
        "if \"Orange\" in favourite_fruits:\n",
        "  print(\"I like oranges!\")\n",
        "\n",
        "if \"Strawberry\" in favourite_fruits:\n",
        "  print(\"I like strawberries!\")\n",
        "\n",
        "if \"Banana\" in favourite_fruits:\n",
        "  print(\"I like bananas!\")\n",
        "\n",
        "if \"Grapes\" in favourite_fruits:\n",
        "  print(\"I like grapes!\")\n"
      ]
    }
  ]
}
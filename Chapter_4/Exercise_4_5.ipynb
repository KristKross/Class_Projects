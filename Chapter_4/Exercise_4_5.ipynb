{
  "nbformat": 4,
  "nbformat_minor": 0,
  "metadata": {
    "colab": {
      "provenance": [],
      "authorship_tag": "ABX9TyNywpSQ0gQ37carlXz8S45X"
    },
    "kernelspec": {
      "name": "python3",
      "display_name": "Python 3"
    },
    "language_info": {
      "name": "python"
    }
  },
  "cells": [
    {
      "cell_type": "markdown",
      "source": [
        "Exercise 5: Favorite Fruit ☑️\n",
        "\n",
        "Make a list of your favorite fruits, and then write a series of independent if statements that check for certain fruits in your list.\n",
        "\n",
        "•Make a list of your three favorite fruits and call it favorite_fruits.\n",
        "\n",
        "•Write five if statements. Each should check whether a certain kind of fruit is in your list. If the fruit is in your list, the if block\n",
        "\n",
        "should print a statement,such as You really like bananas!"
      ],
      "metadata": {
        "id": "KmWyYi91GBVH"
      }
    },
    {
      "cell_type": "code",
      "execution_count": 2,
      "metadata": {
        "colab": {
          "base_uri": "https://localhost:8080/"
        },
        "id": "solXaZLbnbt2",
        "outputId": "20346af7-7367-4c55-b850-8aade75fec7d"
      },
      "outputs": [
        {
          "output_type": "stream",
          "name": "stdout",
          "text": [
            "I like apples!\n",
            "I like oranges!\n",
            "I like strawberries!\n"
          ]
        }
      ],
      "source": [
        "# defining a list that contains strings.\n",
        "favourite_fruits = [\"Apple\", \"Orange\", \"Strawberry\"]\n",
        "\n",
        "# using the \"in\" operator to check if a given element is in the list.\n",
        "if \"Apple\" in favourite_fruits:\n",
        "  print(\"I like apples!\")\n",
        "\n",
        "if \"Orange\" in favourite_fruits:\n",
        "  print(\"I like oranges!\")\n",
        "\n",
        "if \"Strawberry\" in favourite_fruits:\n",
        "  print(\"I like strawberries!\")\n",
        "\n",
        "if \"Banana\" in favourite_fruits:\n",
        "  print(\"I like bananas!\")\n",
        "\n",
        "if \"Grapes\" in favourite_fruits:\n",
        "  print(\"I like grapes!\")"
      ]
    }
  ]
}
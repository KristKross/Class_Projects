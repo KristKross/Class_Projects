{
  "nbformat": 4,
  "nbformat_minor": 0,
  "metadata": {
    "colab": {
      "provenance": [],
      "authorship_tag": "ABX9TyNc5TnOjpOF3oFF0JQUyYwt"
    },
    "kernelspec": {
      "name": "python3",
      "display_name": "Python 3"
    },
    "language_info": {
      "name": "python"
    }
  },
  "cells": [
    {
      "cell_type": "code",
      "execution_count": 15,
      "metadata": {
        "colab": {
          "base_uri": "https://localhost:8080/"
        },
        "id": "oG-l6PZJ_9Qx",
        "outputId": "6b9bd4de-8ff4-45a5-c49c-ec95aca4c5fb"
      },
      "outputs": [
        {
          "output_type": "stream",
          "name": "stdout",
          "text": [
            "I like apples!\n",
            "I like oranges!\n",
            "I like strawberries!\n"
          ]
        }
      ],
      "source": [
        "favourite_fruits = [\"Apple\", \"Orange\", \"Strawberry\"]\n",
        "\n",
        "if \"Apple\" in favourite_fruits:\n",
        "  print(\"I like apples!\")\n",
        "\n",
        "if \"Orange\" in favourite_fruits:\n",
        "  print(\"I like oranges!\")\n",
        "\n",
        "if \"Strawberry\" in favourite_fruits:\n",
        "  print(\"I like strawberries!\")\n",
        "\n",
        "if \"Banana\" in favourite_fruits:\n",
        "  print(\"I like bananas!\")\n",
        "\n",
        "if \"Grapes\" in favourite_fruits:\n",
        "  print(\"I like grapes!\")\n"
      ]
    }
  ]
}
{
  "nbformat": 4,
  "nbformat_minor": 0,
  "metadata": {
    "colab": {
      "provenance": [],
      "authorship_tag": "ABX9TyM8Ea1KfD3fwAlesGXRSQ8a"
    },
    "kernelspec": {
      "name": "python3",
      "display_name": "Python 3"
    },
    "language_info": {
      "name": "python"
    }
  },
  "cells": [
    {
      "cell_type": "markdown",
      "source": [
        "Exercise 4: Stages of Life ☑️\n",
        "\n",
        "Write an if-elif-else chain that determines a person’s stage of life. Set a value for the variable age, and then:\n",
        "\n",
        "•If the person is less than 2 years old, print a message that the person is a baby.\n",
        "\n",
        "•If the person is at least 2 years old but less than 4, print a message that the person is a toddler.\n",
        "\n",
        "•If the person is at least 4 years old but less than 13, print a message that the person is a kid.\n",
        "\n",
        "•If the person is at least 13 years old but less than 20, print a message that the person is a teenager.\n",
        "\n",
        "•If the person is at least 20 years old but less than 65, print a message that the person is an adult.\n",
        "\n",
        "•If the person is age 65 or older, print a message that the person is an elder."
      ],
      "metadata": {
        "id": "KmWyYi91GBVH"
      }
    },
    {
      "cell_type": "code",
      "execution_count": 28,
      "metadata": {
        "colab": {
          "base_uri": "https://localhost:8080/"
        },
        "id": "solXaZLbnbt2",
        "outputId": "aaad5757-1482-49b6-eb8d-64b37929fafb"
      },
      "outputs": [
        {
          "output_type": "stream",
          "name": "stdout",
          "text": [
            "Enter age: 18\n",
            "This person is a teenager.\n"
          ]
        }
      ],
      "source": [
        "# asks the user for their age.\n",
        "age = int(input(\"Enter age: \"))\n",
        "\n",
        "# using if, elif and else to check the persons age and print the statement\n",
        "if age <= 0:\n",
        "  print(\"This person is not born yet.\")\n",
        "elif age < 2:\n",
        "  print(\"This person is a baby.\")\n",
        "elif age < 4:\n",
        "  print(\"This person is a toddler\")\n",
        "elif age < 13:\n",
        "  print(\"This person is a kid.\")\n",
        "elif age < 20:\n",
        "  print(\"This person is a teenager.\")\n",
        "elif age < 65:\n",
        "  print(\"This person is an adult.\")\n",
        "else:\n",
        "  print(\"This person is an elder.\")"
      ]
    }
  ]
}
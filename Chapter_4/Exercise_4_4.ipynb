{
  "nbformat": 4,
  "nbformat_minor": 0,
  "metadata": {
    "colab": {
      "provenance": [],
      "authorship_tag": "ABX9TyMw1MGQ99lCTww1SUVpX4cU"
    },
    "kernelspec": {
      "name": "python3",
      "display_name": "Python 3"
    },
    "language_info": {
      "name": "python"
    }
  },
  "cells": [
    {
      "cell_type": "code",
      "execution_count": 13,
      "metadata": {
        "colab": {
          "base_uri": "https://localhost:8080/"
        },
        "id": "oG-l6PZJ_9Qx",
        "outputId": "1268af38-0a8d-403d-9606-05300011d2e4"
      },
      "outputs": [
        {
          "output_type": "stream",
          "name": "stdout",
          "text": [
            "Enter age: 18\n",
            "This person is a teenager.\n"
          ]
        }
      ],
      "source": [
        "age = int(input(\"Enter age: \"))\n",
        "\n",
        "if age <= 0:\n",
        "  print(\"This person is not born yet.\")\n",
        "elif age < 2:\n",
        "  print(\"This person is a baby.\")\n",
        "elif age < 4:\n",
        "  print(\"This person is a toddler\")\n",
        "elif age < 13:\n",
        "  print(\"This person is a kid.\")\n",
        "elif age < 20:\n",
        "  print(\"This person is a teenager.\")\n",
        "elif age < 65:\n",
        "  print(\"This person is an adult.\")\n",
        "else:\n",
        "  print(\"This person is an elder.\")"
      ]
    }
  ]
}
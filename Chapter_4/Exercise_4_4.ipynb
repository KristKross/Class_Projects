{
  "nbformat": 4,
  "nbformat_minor": 0,
  "metadata": {
    "colab": {
      "provenance": [],
      "authorship_tag": "ABX9TyMTnu5aqau97mPWFPg9ObWT"
    },
    "kernelspec": {
      "name": "python3",
      "display_name": "Python 3"
    },
    "language_info": {
      "name": "python"
    }
  },
  "cells": [
    {
      "cell_type": "code",
      "execution_count": 13,
      "metadata": {
        "colab": {
          "base_uri": "https://localhost:8080/"
        },
        "id": "oG-l6PZJ_9Qx",
        "outputId": "53ba548f-66c1-4695-9979-7d97e5399802"
      },
      "outputs": [
        {
          "output_type": "stream",
          "name": "stdout",
          "text": [
            "This person is a teenager.\n"
          ]
        }
      ],
      "source": [
        "age = 18\n",
        "\n",
        "if age < 2:\n",
        "  print(\"This person is a baby.\")\n",
        "elif age > 2 and age < 4:\n",
        "  print(\"This person is a toddler\")\n",
        "elif age > 4 and age < 13:\n",
        "  print(\"This person is a kid.\")\n",
        "elif age > 13 and age < 20:\n",
        "  print(\"This person is a teenager.\")\n",
        "elif age > 20 and age < 65:\n",
        "  print(\"This person is an adult.\")\n",
        "else:\n",
        "  print(\"This person is an elder.\")\n",
        "\n"
      ]
    }
  ]
}
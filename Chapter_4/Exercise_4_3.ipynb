{
  "nbformat": 4,
  "nbformat_minor": 0,
  "metadata": {
    "colab": {
      "provenance": [],
      "authorship_tag": "ABX9TyPPBdXYwn9PPW9ZDZA1Ddc9"
    },
    "kernelspec": {
      "name": "python3",
      "display_name": "Python 3"
    },
    "language_info": {
      "name": "python"
    }
  },
  "cells": [
    {
      "cell_type": "markdown",
      "source": [
        "Exercise 3: Alien Colors #3 ☑️\n",
        "\n",
        "Turn your if-else chain from Exercise 5-4 into an if-elifelse chain.\n",
        "\n",
        "• If the alien is green, print a message that the player earned 5 points.\n",
        "\n",
        "• If the alien is yellow, print a message that the player earned 10 points.\n",
        "\n",
        "• If the alien is red, print a message that the player earned 15 points.\n",
        "\n",
        "• Write three versions of this program, making sure each message is printed for the appropriate color alien."
      ],
      "metadata": {
        "id": "KmWyYi91GBVH"
      }
    },
    {
      "cell_type": "code",
      "execution_count": 25,
      "metadata": {
        "colab": {
          "base_uri": "https://localhost:8080/"
        },
        "id": "solXaZLbnbt2",
        "outputId": "e4482192-1265-42e5-d53e-98d20bc3e286"
      },
      "outputs": [
        {
          "output_type": "stream",
          "name": "stdout",
          "text": [
            "You earned 5 points.\n",
            "You earned 10 points.\n",
            "You earned 15 points.\n"
          ]
        }
      ],
      "source": [
        "# the variable that is stored is \"green\".\n",
        "alien_color = \"green\"\n",
        "\n",
        "# since the variable is \"green\" it runs the if statement.\n",
        "if alien_color == \"green\":\n",
        "  print(\"You earned 5 points.\")\n",
        "elif alien_color == \"yellow\":\n",
        "  print(\"You earned 10 points.\")\n",
        "else:\n",
        "  print(\"You earned 15 points.\")\n",
        "\n",
        "\n",
        "# the variable that is stored is \"yellow\".\n",
        "alien_color = \"yellow\"\n",
        "\n",
        "if alien_color == \"green\":\n",
        "  print(\"You earned 5 points.\")\n",
        "# since the variable is \"yellow\" it runs the elif statement.\n",
        "elif alien_color == \"yellow\":\n",
        "  print(\"You earned 10 points.\")\n",
        "else:\n",
        "  print(\"You earned 15 points.\")\n",
        "\n",
        "\n",
        "# the variable that is stored is \"red\".\n",
        "alien_color = \"red\"\n",
        "\n",
        "if alien_color == \"green\":\n",
        "  print(\"You earned 5 points.\")\n",
        "elif alien_color == \"yellow\":\n",
        "  print(\"You earned 10 points.\")\n",
        "# since the variable is neither \"red\" or \"yellow\" it runs the else statement.\n",
        "else:\n",
        "  print(\"You earned 15 points.\")"
      ]
    }
  ]
}
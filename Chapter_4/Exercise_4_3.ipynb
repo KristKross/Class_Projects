{
  "nbformat": 4,
  "nbformat_minor": 0,
  "metadata": {
    "colab": {
      "provenance": [],
      "authorship_tag": "ABX9TyP63nhQEYKy8nhHTQRHbYNX"
    },
    "kernelspec": {
      "name": "python3",
      "display_name": "Python 3"
    },
    "language_info": {
      "name": "python"
    }
  },
  "cells": [
    {
      "cell_type": "code",
      "execution_count": 7,
      "metadata": {
        "colab": {
          "base_uri": "https://localhost:8080/"
        },
        "id": "solXaZLbnbt2",
        "outputId": "91d12988-bdfb-4597-9519-fa68e7718f03"
      },
      "outputs": [
        {
          "output_type": "stream",
          "name": "stdout",
          "text": [
            "You earned 5 points.\n",
            "You earned 10 points.\n",
            "You earned 10 points.\n"
          ]
        }
      ],
      "source": [
        "alien_color = \"green\"\n",
        "\n",
        "if alien_color == \"green\":\n",
        "  print(\"You earned 5 points.\")\n",
        "elif alien_color == \"yellow\":\n",
        "  print(\"You earned 10 points.\")\n",
        "else:\n",
        "  print(\"You earned 15 points.\")\n",
        "\n",
        "\n",
        "\n",
        "alien_color = \"yellow\"\n",
        "\n",
        "if alien_color == \"green\":\n",
        "  print(\"You earned 5 points.\")\n",
        "elif alien_color == \"yellow\":\n",
        "  print(\"You earned 10 points.\")\n",
        "else:\n",
        "  print(\"You earned 15 points.\")\n",
        "\n",
        "\n",
        "\n",
        "  alien_color = \"red\"\n",
        "\n",
        "if alien_color == \"green\":\n",
        "  print(\"You earned 5 points.\")\n",
        "elif alien_color == \"yellow\":\n",
        "  print(\"You earned 10 points.\")\n",
        "else:\n",
        "  print(\"You earned 15 points.\")"
      ]
    }
  ]
}
{
  "nbformat": 4,
  "nbformat_minor": 0,
  "metadata": {
    "colab": {
      "provenance": [],
      "authorship_tag": "ABX9TyOFjkwwcCXtCwHuHP8qdWnB"
    },
    "kernelspec": {
      "name": "python3",
      "display_name": "Python 3"
    },
    "language_info": {
      "name": "python"
    }
  },
  "cells": [
    {
      "cell_type": "code",
      "execution_count": 9,
      "metadata": {
        "colab": {
          "base_uri": "https://localhost:8080/"
        },
        "id": "solXaZLbnbt2",
        "outputId": "3517149d-f3eb-4e77-e26c-ed1410d04a71"
      },
      "outputs": [
        {
          "output_type": "stream",
          "name": "stdout",
          "text": [
            "You earned 5 points.\n",
            "You earned 10 points.\n",
            "You earned 15 points.\n"
          ]
        }
      ],
      "source": [
        "alien_color = \"green\"\n",
        "\n",
        "if alien_color == \"green\":\n",
        "  print(\"You earned 5 points.\")\n",
        "elif alien_color == \"yellow\":\n",
        "  print(\"You earned 10 points.\")\n",
        "else:\n",
        "  print(\"You earned 15 points.\")\n",
        "\n",
        "\n",
        "\n",
        "alien_color = \"yellow\"\n",
        "\n",
        "if alien_color == \"green\":\n",
        "  print(\"You earned 5 points.\")\n",
        "elif alien_color == \"yellow\":\n",
        "  print(\"You earned 10 points.\")\n",
        "else:\n",
        "  print(\"You earned 15 points.\")\n",
        "\n",
        "\n",
        "\n",
        "alien_color = \"red\"\n",
        "\n",
        "if alien_color == \"green\":\n",
        "  print(\"You earned 5 points.\")\n",
        "elif alien_color == \"yellow\":\n",
        "  print(\"You earned 10 points.\")\n",
        "else:\n",
        "  print(\"You earned 15 points.\")"
      ]
    }
  ]
}
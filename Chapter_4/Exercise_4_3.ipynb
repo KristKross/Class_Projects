{
  "nbformat": 4,
  "nbformat_minor": 0,
  "metadata": {
    "colab": {
      "provenance": [],
      "authorship_tag": "ABX9TyNyCrcqZAEEWFq/FjWcWWDl"
    },
    "kernelspec": {
      "name": "python3",
      "display_name": "Python 3"
    },
    "language_info": {
      "name": "python"
    }
  },
  "cells": [
    {
      "cell_type": "markdown",
      "source": [
        "Exercise 3: Alien Colors #3 ☑️\n",
        "Turn your if-else chain from Exercise 5-4 into an if-elifelse chain.\n",
        "\n",
        "• If the alien is green, print a message that the player earned 5 points.\n",
        "\n",
        "• If the alien is yellow, print a message that the player earned 10 points.\n",
        "\n",
        "• If the alien is red, print a message that the player earned 15 points.\n",
        "\n",
        "• Write three versions of this program, making sure each message is printed for the appropriate color alien."
      ],
      "metadata": {
        "id": "KmWyYi91GBVH"
      }
    },
    {
      "cell_type": "code",
      "execution_count": 29,
      "metadata": {
        "colab": {
          "base_uri": "https://localhost:8080/"
        },
        "id": "solXaZLbnbt2",
        "outputId": "eae637f8-f4c2-4548-e44e-107083ab4917"
      },
      "outputs": [
        {
          "output_type": "stream",
          "name": "stdout",
          "text": [
            "You earned 5 points.\n",
            "You earned 10 points.\n",
            "You earned 15 points.\n"
          ]
        }
      ],
      "source": [
        "# changed the variable to store \"green\", which runs the if statement.\n",
        "alien_color = \"green\"\n",
        "\n",
        "# using the if statement to check if the variable is green.\n",
        "if alien_color == \"green\":\n",
        "  print(\"You earned 5 points.\")\n",
        "# if the variable is yellow instead the elif statement will run.\n",
        "elif alien_color == \"yellow\":\n",
        "  print(\"You earned 10 points.\")\n",
        "# if the variable is neither yellow or red it will run the else statement.\n",
        "else:\n",
        "  print(\"You earned 15 points.\")\n",
        "\n",
        "\n",
        "# changed the variable to store \"yellow\", which runs the elif statement.\n",
        "alien_color = \"yellow\"\n",
        "\n",
        "# using the if statement to check if the variable is green.\n",
        "if alien_color == \"green\":\n",
        "  print(\"You earned 5 points.\")\n",
        "# if the variable is yellow instead the elif statement will run.\n",
        "elif alien_color == \"yellow\":\n",
        "  print(\"You earned 10 points.\")\n",
        "# if the variable is neither yellow or red it will run the else statement.\n",
        "else:\n",
        "  print(\"You earned 15 points.\")\n",
        "\n",
        "\n",
        "# changed the variable to store \"red\", which runs the else statement.\n",
        "alien_color = \"red\"\n",
        "\n",
        "# using the if statement to check if the variable is green.\n",
        "if alien_color == \"green\":\n",
        "  print(\"You earned 5 points.\")\n",
        "# if the variable is yellow instead the elif statement will run.\n",
        "elif alien_color == \"yellow\":\n",
        "  print(\"You earned 10 points.\")\n",
        "# if the variable is neither yellow or red it will run the else statement.\n",
        "else:\n",
        "  print(\"You earned 15 points.\")"
      ]
    }
  ]
}
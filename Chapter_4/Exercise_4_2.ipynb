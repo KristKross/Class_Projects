{
  "nbformat": 4,
  "nbformat_minor": 0,
  "metadata": {
    "colab": {
      "provenance": [],
      "authorship_tag": "ABX9TyO/XF7YkrOa0CPeCA5jVfJh",
      "include_colab_link": true
    },
    "kernelspec": {
      "name": "python3",
      "display_name": "Python 3"
    },
    "language_info": {
      "name": "python"
    }
  },
  "cells": [
    {
      "cell_type": "markdown",
      "metadata": {
        "id": "view-in-github",
        "colab_type": "text"
      },
      "source": [
        "<a href=\"https://colab.research.google.com/github/KristKross/Kristian_Code_Lab_1/blob/main/Chapter_4/Exercise_4_2.ipynb\" target=\"_parent\"><img src=\"https://colab.research.google.com/assets/colab-badge.svg\" alt=\"Open In Colab\"/></a>"
      ]
    },
    {
      "cell_type": "code",
      "execution_count": 1,
      "metadata": {
        "colab": {
          "base_uri": "https://localhost:8080/"
        },
        "id": "oG-l6PZJ_9Qx",
        "outputId": "04911c08-bcc6-43f4-f62c-004c7ddedb77"
      },
      "outputs": [
        {
          "output_type": "stream",
          "name": "stdout",
          "text": [
            "You earned 5 points.\n",
            "You earned 10 points.\n"
          ]
        }
      ],
      "source": [
        "alien_color = \"green\"\n",
        "\n",
        "if alien_color == \"green\":\n",
        "  print(\"You earned 5 points.\")\n",
        "else:\n",
        "  print(\"You earned 10 points.\")\n",
        "\n",
        "\n",
        "\n",
        "alien_color = \"red\"\n",
        "\n",
        "if alien_color == \"green\":\n",
        "  print(\"You earned 5 points.\")\n",
        "else:\n",
        "  print(\"You earned 10 points.\")"
      ]
    }
  ]
}
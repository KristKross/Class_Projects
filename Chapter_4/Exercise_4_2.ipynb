{
  "nbformat": 4,
  "nbformat_minor": 0,
  "metadata": {
    "colab": {
      "provenance": [],
      "authorship_tag": "ABX9TyPp74y7ugl4rTrGVag9CcwE"
    },
    "kernelspec": {
      "name": "python3",
      "display_name": "Python 3"
    },
    "language_info": {
      "name": "python"
    }
  },
  "cells": [
    {
      "cell_type": "markdown",
      "source": [
        "Exercise 2: Alien Colors #2 ☑️\n",
        "\n",
        "Choose a color for an alien as you did in Exercise 5-3, and write an if-else chain.\n",
        "\n",
        "•If the alien’s color is green, print a statement that the player just earned 5 points for shooting the alien.\n",
        "\n",
        "•If the alien’s color isn’t green, print a statement that the player just earned 10 points.\n",
        "\n",
        "•Write one version of this program that runs the if block and another that runs the else block."
      ],
      "metadata": {
        "id": "KmWyYi91GBVH"
      }
    },
    {
      "cell_type": "code",
      "execution_count": 23,
      "metadata": {
        "colab": {
          "base_uri": "https://localhost:8080/"
        },
        "id": "solXaZLbnbt2",
        "outputId": "0525e94f-72c9-43c7-d2c5-b5c696cb69a9"
      },
      "outputs": [
        {
          "output_type": "stream",
          "name": "stdout",
          "text": [
            "You earned 5 points.\n",
            "You earned 10 points.\n"
          ]
        }
      ],
      "source": [
        "alien_color = \"green\"\n",
        "\n",
        "# using the if statement to check if the variable is green.\n",
        "if alien_color == \"green\":\n",
        "  print(\"You earned 5 points.\")\n",
        "# if the variable is red instead the else statement will run.\n",
        "else:\n",
        "  print(\"You earned 10 points.\")\n",
        "\n",
        "\n",
        "# changed the variable to store \"red\", which runs the else statement.\n",
        "alien_color = \"red\"\n",
        "\n",
        "if alien_color == \"green\":\n",
        "  print(\"You earned 5 points.\")\n",
        "# since the variable is red the else statement will run instead.\n",
        "else:\n",
        "  print(\"You earned 10 points.\")"
      ]
    }
  ]
}